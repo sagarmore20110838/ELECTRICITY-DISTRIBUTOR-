{
 "cells": [
  {
   "cell_type": "code",
   "execution_count": 1,
   "id": "cd5229db",
   "metadata": {},
   "outputs": [],
   "source": [
    "import numpy as np \n",
    "\n",
    "import pandas as pd \n",
    "\n",
    "from statsmodels.tsa.seasonal import seasonal_decompose\n",
    "import matplotlib.pyplot as plt  \n",
    "\n",
    "import statsmodels.tsa \n",
    "from statsmodels.tsa.api import acf , pacf_ols ,adfuller \n",
    "\n",
    "from statsmodels.tsa.holtwinters import ExponentialSmoothing \n"
   ]
  },
  {
   "cell_type": "code",
   "execution_count": 2,
   "id": "95542d10",
   "metadata": {},
   "outputs": [],
   "source": [
    "import  statsmodels.tsa.api as smt \n",
    "import statsmodels.api as sm\n"
   ]
  },
  {
   "cell_type": "markdown",
   "id": "2e29622d",
   "metadata": {},
   "source": [
    "## from  stldecompose import decompose                        \n",
    "## Showing error that is why decompose method is not used for model building. "
   ]
  },
  {
   "cell_type": "code",
   "execution_count": 4,
   "id": "7f95cc95",
   "metadata": {},
   "outputs": [],
   "source": [
    "data = pd.read_csv(r\"C:\\Users\\ACER\\Downloads\\ML assingment\\13. Capstone Case Study - Demand Estimation\\Electricity Consumption.csv\")"
   ]
  },
  {
   "cell_type": "code",
   "execution_count": 5,
   "id": "86d5ed03",
   "metadata": {},
   "outputs": [],
   "source": [
    "## Changing the name for easy access:\n",
    "\n",
    "data.rename({\"DATE\":\"date\", \"Electricty_Consumption_in_TW\":\"electricty_consumption_in_tw\" }, axis=1, inplace=True)"
   ]
  },
  {
   "cell_type": "code",
   "execution_count": 6,
   "id": "ec39b810",
   "metadata": {},
   "outputs": [
    {
     "name": "stdout",
     "output_type": "stream",
     "text": [
      "<class 'pandas.core.frame.DataFrame'>\n",
      "RangeIndex: 561 entries, 0 to 560\n",
      "Data columns (total 2 columns):\n",
      " #   Column                        Non-Null Count  Dtype  \n",
      "---  ------                        --------------  -----  \n",
      " 0   date                          561 non-null    object \n",
      " 1   electricty_consumption_in_tw  561 non-null    float64\n",
      "dtypes: float64(1), object(1)\n",
      "memory usage: 8.9+ KB\n"
     ]
    }
   ],
   "source": [
    "data.info()"
   ]
  },
  {
   "cell_type": "code",
   "execution_count": 7,
   "id": "021cb1ea",
   "metadata": {},
   "outputs": [
    {
     "data": {
      "text/html": [
       "<div>\n",
       "<style scoped>\n",
       "    .dataframe tbody tr th:only-of-type {\n",
       "        vertical-align: middle;\n",
       "    }\n",
       "\n",
       "    .dataframe tbody tr th {\n",
       "        vertical-align: top;\n",
       "    }\n",
       "\n",
       "    .dataframe thead th {\n",
       "        text-align: right;\n",
       "    }\n",
       "</style>\n",
       "<table border=\"1\" class=\"dataframe\">\n",
       "  <thead>\n",
       "    <tr style=\"text-align: right;\">\n",
       "      <th></th>\n",
       "      <th>date</th>\n",
       "      <th>electricty_consumption_in_tw</th>\n",
       "    </tr>\n",
       "  </thead>\n",
       "  <tbody>\n",
       "    <tr>\n",
       "      <th>0</th>\n",
       "      <td>1/1/1973</td>\n",
       "      <td>35.9728</td>\n",
       "    </tr>\n",
       "    <tr>\n",
       "      <th>1</th>\n",
       "      <td>2/1/1973</td>\n",
       "      <td>36.1334</td>\n",
       "    </tr>\n",
       "    <tr>\n",
       "      <th>2</th>\n",
       "      <td>3/1/1973</td>\n",
       "      <td>35.0625</td>\n",
       "    </tr>\n",
       "    <tr>\n",
       "      <th>3</th>\n",
       "      <td>4/1/1973</td>\n",
       "      <td>33.8416</td>\n",
       "    </tr>\n",
       "    <tr>\n",
       "      <th>4</th>\n",
       "      <td>5/1/1973</td>\n",
       "      <td>33.5107</td>\n",
       "    </tr>\n",
       "    <tr>\n",
       "      <th>...</th>\n",
       "      <td>...</td>\n",
       "      <td>...</td>\n",
       "    </tr>\n",
       "    <tr>\n",
       "      <th>556</th>\n",
       "      <td>5/1/2019</td>\n",
       "      <td>97.5860</td>\n",
       "    </tr>\n",
       "    <tr>\n",
       "      <th>557</th>\n",
       "      <td>6/1/2019</td>\n",
       "      <td>110.8580</td>\n",
       "    </tr>\n",
       "    <tr>\n",
       "      <th>558</th>\n",
       "      <td>7/1/2019</td>\n",
       "      <td>122.1014</td>\n",
       "    </tr>\n",
       "    <tr>\n",
       "      <th>559</th>\n",
       "      <td>8/1/2019</td>\n",
       "      <td>121.7765</td>\n",
       "    </tr>\n",
       "    <tr>\n",
       "      <th>560</th>\n",
       "      <td>9/1/2019</td>\n",
       "      <td>109.7190</td>\n",
       "    </tr>\n",
       "  </tbody>\n",
       "</table>\n",
       "<p>561 rows × 2 columns</p>\n",
       "</div>"
      ],
      "text/plain": [
       "         date  electricty_consumption_in_tw\n",
       "0    1/1/1973                       35.9728\n",
       "1    2/1/1973                       36.1334\n",
       "2    3/1/1973                       35.0625\n",
       "3    4/1/1973                       33.8416\n",
       "4    5/1/1973                       33.5107\n",
       "..        ...                           ...\n",
       "556  5/1/2019                       97.5860\n",
       "557  6/1/2019                      110.8580\n",
       "558  7/1/2019                      122.1014\n",
       "559  8/1/2019                      121.7765\n",
       "560  9/1/2019                      109.7190\n",
       "\n",
       "[561 rows x 2 columns]"
      ]
     },
     "execution_count": 7,
     "metadata": {},
     "output_type": "execute_result"
    }
   ],
   "source": [
    "data"
   ]
  },
  {
   "cell_type": "markdown",
   "id": "a3aecaf6",
   "metadata": {},
   "source": [
    "## PRE-REQUISITE FOR FORCASTING PROBLEM : \n",
    "\n",
    "### 1) INDEX BY DATE TIME VARIABLE \n",
    "\n",
    "### 2) UNIFORM INTERVAL DATA \n",
    "\n",
    "### 3) NO MISSING IN INDEX (DATE TIME VARIABLE)\n"
   ]
  },
  {
   "cell_type": "code",
   "execution_count": 8,
   "id": "2539361a",
   "metadata": {},
   "outputs": [],
   "source": [
    "## 1)  Changing the variable to date-time first : \n",
    "data[\"new_date\"] = pd.to_datetime(data.date)"
   ]
  },
  {
   "cell_type": "code",
   "execution_count": 9,
   "id": "cabc2e2d",
   "metadata": {},
   "outputs": [],
   "source": [
    "## Removing old date variable as its duplicate : \n",
    "data.drop([\"date\"], axis=1, inplace=True)\n",
    "\n",
    "\n"
   ]
  },
  {
   "cell_type": "code",
   "execution_count": 10,
   "id": "fc536a2b",
   "metadata": {},
   "outputs": [],
   "source": [
    "## Indexing the new date varialbe (which is in date_time data type): \n",
    "\n",
    "data.set_index(\"new_date\", inplace=True)"
   ]
  },
  {
   "cell_type": "code",
   "execution_count": 11,
   "id": "a29529a9",
   "metadata": {},
   "outputs": [
    {
     "name": "stdout",
     "output_type": "stream",
     "text": [
      "<class 'pandas.core.frame.DataFrame'>\n",
      "DatetimeIndex: 561 entries, 1973-01-01 to 2019-09-01\n",
      "Data columns (total 1 columns):\n",
      " #   Column                        Non-Null Count  Dtype  \n",
      "---  ------                        --------------  -----  \n",
      " 0   electricty_consumption_in_tw  561 non-null    float64\n",
      "dtypes: float64(1)\n",
      "memory usage: 8.8 KB\n"
     ]
    }
   ],
   "source": [
    "## Now we can see, that in info the indexing has change : \n",
    "\n",
    "data.info()\n",
    "\n",
    "## Now its a normal Time series data : "
   ]
  },
  {
   "cell_type": "code",
   "execution_count": 12,
   "id": "c14a5960",
   "metadata": {},
   "outputs": [],
   "source": [
    "## 2) checking for interval of index variable : \n",
    "## 3) checkinh for missing in interval :\n",
    "data[\"month\"] = data.index.month_name()"
   ]
  },
  {
   "cell_type": "code",
   "execution_count": 13,
   "id": "7245b37f",
   "metadata": {},
   "outputs": [
    {
     "data": {
      "text/plain": [
       "August       47\n",
       "September    47\n",
       "May          47\n",
       "July         47\n",
       "February     47\n",
       "March        47\n",
       "April        47\n",
       "June         47\n",
       "January      47\n",
       "November     46\n",
       "December     46\n",
       "October      46\n",
       "Name: month, dtype: int64"
      ]
     },
     "execution_count": 13,
     "metadata": {},
     "output_type": "execute_result"
    }
   ],
   "source": [
    "data.month.value_counts()"
   ]
  },
  {
   "cell_type": "markdown",
   "id": "41d87c29",
   "metadata": {},
   "source": [
    "### As we can see the data in uniform as monthly basis but its have 3 missing details of latest year for \n",
    "### October2019 , Novembar2019 and December 2019."
   ]
  },
  {
   "cell_type": "code",
   "execution_count": 14,
   "id": "e3619c08",
   "metadata": {},
   "outputs": [
    {
     "data": {
      "text/plain": [
       "electricty_consumption_in_tw    0\n",
       "month                           0\n",
       "dtype: int64"
      ]
     },
     "execution_count": 14,
     "metadata": {},
     "output_type": "execute_result"
    }
   ],
   "source": [
    "## Missing Check : \n",
    "\n",
    "data.isna().sum()\n",
    "\n",
    "## No missing "
   ]
  },
  {
   "cell_type": "code",
   "execution_count": 15,
   "id": "d4ef2979",
   "metadata": {},
   "outputs": [
    {
     "data": {
      "text/plain": [
       "<AxesSubplot:>"
      ]
     },
     "execution_count": 15,
     "metadata": {},
     "output_type": "execute_result"
    },
    {
     "data": {
      "image/png": "[encoded data removed]",
      "text/plain": [
       "<Figure size 432x288 with 1 Axes>"
      ]
     },
     "metadata": {
      "needs_background": "light"
     },
     "output_type": "display_data"
    }
   ],
   "source": [
    "## Check for outliers : \n",
    "\n",
    "data.electricty_consumption_in_tw.plot.box()"
   ]
  },
  {
   "cell_type": "code",
   "execution_count": 16,
   "id": "cbb3fa6d",
   "metadata": {},
   "outputs": [],
   "source": [
    "## Spilt the data into train - test : \n",
    "data.drop({\"month\"},axis=1, inplace=True)"
   ]
  },
  {
   "cell_type": "code",
   "execution_count": 17,
   "id": "b23c08ca",
   "metadata": {},
   "outputs": [
    {
     "data": {
      "text/html": [
       "<div>\n",
       "<style scoped>\n",
       "    .dataframe tbody tr th:only-of-type {\n",
       "        vertical-align: middle;\n",
       "    }\n",
       "\n",
       "    .dataframe tbody tr th {\n",
       "        vertical-align: top;\n",
       "    }\n",
       "\n",
       "    .dataframe thead th {\n",
       "        text-align: right;\n",
       "    }\n",
       "</style>\n",
       "<table border=\"1\" class=\"dataframe\">\n",
       "  <thead>\n",
       "    <tr style=\"text-align: right;\">\n",
       "      <th></th>\n",
       "      <th>electricty_consumption_in_tw</th>\n",
       "    </tr>\n",
       "    <tr>\n",
       "      <th>new_date</th>\n",
       "      <th></th>\n",
       "    </tr>\n",
       "  </thead>\n",
       "  <tbody>\n",
       "    <tr>\n",
       "      <th>1973-01-01</th>\n",
       "      <td>35.9728</td>\n",
       "    </tr>\n",
       "    <tr>\n",
       "      <th>1973-02-01</th>\n",
       "      <td>36.1334</td>\n",
       "    </tr>\n",
       "    <tr>\n",
       "      <th>1973-03-01</th>\n",
       "      <td>35.0625</td>\n",
       "    </tr>\n",
       "    <tr>\n",
       "      <th>1973-04-01</th>\n",
       "      <td>33.8416</td>\n",
       "    </tr>\n",
       "    <tr>\n",
       "      <th>1973-05-01</th>\n",
       "      <td>33.5107</td>\n",
       "    </tr>\n",
       "    <tr>\n",
       "      <th>...</th>\n",
       "      <td>...</td>\n",
       "    </tr>\n",
       "    <tr>\n",
       "      <th>2019-05-01</th>\n",
       "      <td>97.5860</td>\n",
       "    </tr>\n",
       "    <tr>\n",
       "      <th>2019-06-01</th>\n",
       "      <td>110.8580</td>\n",
       "    </tr>\n",
       "    <tr>\n",
       "      <th>2019-07-01</th>\n",
       "      <td>122.1014</td>\n",
       "    </tr>\n",
       "    <tr>\n",
       "      <th>2019-08-01</th>\n",
       "      <td>121.7765</td>\n",
       "    </tr>\n",
       "    <tr>\n",
       "      <th>2019-09-01</th>\n",
       "      <td>109.7190</td>\n",
       "    </tr>\n",
       "  </tbody>\n",
       "</table>\n",
       "<p>561 rows × 1 columns</p>\n",
       "</div>"
      ],
      "text/plain": [
       "            electricty_consumption_in_tw\n",
       "new_date                                \n",
       "1973-01-01                       35.9728\n",
       "1973-02-01                       36.1334\n",
       "1973-03-01                       35.0625\n",
       "1973-04-01                       33.8416\n",
       "1973-05-01                       33.5107\n",
       "...                                  ...\n",
       "2019-05-01                       97.5860\n",
       "2019-06-01                      110.8580\n",
       "2019-07-01                      122.1014\n",
       "2019-08-01                      121.7765\n",
       "2019-09-01                      109.7190\n",
       "\n",
       "[561 rows x 1 columns]"
      ]
     },
     "execution_count": 17,
     "metadata": {},
     "output_type": "execute_result"
    }
   ],
   "source": [
    "data"
   ]
  },
  {
   "cell_type": "code",
   "execution_count": 18,
   "id": "9b8e55bb",
   "metadata": {},
   "outputs": [],
   "source": [
    "train = data['1973-01-01':'2018-12-01']\n",
    "\n",
    "test = data['2019-01-01':]\n"
   ]
  },
  {
   "cell_type": "markdown",
   "id": "ee0413c6",
   "metadata": {},
   "source": [
    "## EDA "
   ]
  },
  {
   "cell_type": "code",
   "execution_count": 19,
   "id": "1711921d",
   "metadata": {},
   "outputs": [],
   "source": [
    "## Trend and Seasonality check : \n"
   ]
  },
  {
   "cell_type": "code",
   "execution_count": 20,
   "id": "61cab122",
   "metadata": {},
   "outputs": [],
   "source": [
    "decomp = seasonal_decompose(train.electricty_consumption_in_tw,model= \"multiplicative\")"
   ]
  },
  {
   "cell_type": "code",
   "execution_count": 21,
   "id": "0b5f2146",
   "metadata": {},
   "outputs": [
    {
     "data": {
      "text/plain": [
       "new_date\n",
       "1973-01-01    1.054483\n",
       "1973-02-01    0.997125\n",
       "1973-03-01    0.946107\n",
       "1973-04-01    0.890831\n",
       "1973-05-01    0.918733\n",
       "                ...   \n",
       "2018-08-01    1.135873\n",
       "2018-09-01    1.039143\n",
       "2018-10-01    0.936749\n",
       "2018-11-01    0.924450\n",
       "2018-12-01    1.001367\n",
       "Name: seasonal, Length: 552, dtype: float64"
      ]
     },
     "execution_count": 21,
     "metadata": {},
     "output_type": "execute_result"
    }
   ],
   "source": [
    "decomp.seasonal"
   ]
  },
  {
   "cell_type": "code",
   "execution_count": 22,
   "id": "8afd5770",
   "metadata": {},
   "outputs": [
    {
     "data": {
      "image/png": "[encoded data removed]",
      "text/plain": [
       "<Figure size 432x288 with 4 Axes>"
      ]
     },
     "metadata": {
      "needs_background": "light"
     },
     "output_type": "display_data"
    }
   ],
   "source": [
    "decomp.plot()\n",
    "plt.rcParams[\"figure.figsize\"] = (15,10)\n",
    "\n",
    "\n",
    "## As we can see that data have both trend and seaseonality. "
   ]
  },
  {
   "cell_type": "code",
   "execution_count": 23,
   "id": "ac20a08b",
   "metadata": {},
   "outputs": [
    {
     "data": {
      "text/plain": [
       "0.9999231901488932"
      ]
     },
     "execution_count": 23,
     "metadata": {},
     "output_type": "execute_result"
    }
   ],
   "source": [
    "decomp.resid.mean()   ## And we can also sea that the irregular component is near to 1 , means our electricty_consumption_in_tw\n",
    "## component is haveing a strong infulence of Trend and Seasonality. "
   ]
  },
  {
   "cell_type": "code",
   "execution_count": 24,
   "id": "ac0b9809",
   "metadata": {},
   "outputs": [
    {
     "name": "stderr",
     "output_type": "stream",
     "text": [
      "C:\\Users\\ACER\\anaconda3\\lib\\site-packages\\statsmodels\\tsa\\stattools.py:568: FutureWarning: fft=True will become the default in a future version of statsmodels. To suppress this warning, explicitly set fft=False.\n",
      "  warnings.warn(\n"
     ]
    }
   ],
   "source": [
    "## Check for random walk : (perform ACF)\n",
    "\n",
    "\n",
    "rand_check = pd.DataFrame(acf(train.electricty_consumption_in_tw,nlags=5)).T\n",
    "\n",
    "## As there is correlations between lags values so, its not a random walk and we can do the forcasting.  "
   ]
  },
  {
   "cell_type": "code",
   "execution_count": 25,
   "id": "76131142",
   "metadata": {},
   "outputs": [],
   "source": [
    "rand_check.rename({0:\"lag0\", 1:\"lag1\",2:\"lag2\",3:\"lag3\",4:\"lag4\",5:\"lag5\"}, axis=1, inplace=True )"
   ]
  },
  {
   "cell_type": "code",
   "execution_count": 26,
   "id": "95e84436",
   "metadata": {},
   "outputs": [
    {
     "data": {
      "text/html": [
       "<div>\n",
       "<style scoped>\n",
       "    .dataframe tbody tr th:only-of-type {\n",
       "        vertical-align: middle;\n",
       "    }\n",
       "\n",
       "    .dataframe tbody tr th {\n",
       "        vertical-align: top;\n",
       "    }\n",
       "\n",
       "    .dataframe thead th {\n",
       "        text-align: right;\n",
       "    }\n",
       "</style>\n",
       "<table border=\"1\" class=\"dataframe\">\n",
       "  <thead>\n",
       "    <tr style=\"text-align: right;\">\n",
       "      <th></th>\n",
       "      <th>lag0</th>\n",
       "      <th>lag1</th>\n",
       "      <th>lag2</th>\n",
       "      <th>lag3</th>\n",
       "      <th>lag4</th>\n",
       "      <th>lag5</th>\n",
       "    </tr>\n",
       "  </thead>\n",
       "  <tbody>\n",
       "    <tr>\n",
       "      <th>0</th>\n",
       "      <td>1.0</td>\n",
       "      <td>0.957434</td>\n",
       "      <td>0.882248</td>\n",
       "      <td>0.836281</td>\n",
       "      <td>0.84918</td>\n",
       "      <td>0.894028</td>\n",
       "    </tr>\n",
       "  </tbody>\n",
       "</table>\n",
       "</div>"
      ],
      "text/plain": [
       "   lag0      lag1      lag2      lag3     lag4      lag5\n",
       "0   1.0  0.957434  0.882248  0.836281  0.84918  0.894028"
      ]
     },
     "execution_count": 26,
     "metadata": {},
     "output_type": "execute_result"
    }
   ],
   "source": [
    "rand_check\n",
    "\n",
    "## As there is correlations between lags values so, its not a random walk and we can do the forcasting.  "
   ]
  },
  {
   "cell_type": "code",
   "execution_count": 27,
   "id": "5a8cbd9d",
   "metadata": {},
   "outputs": [
    {
     "data": {
      "text/plain": [
       "0.25666120361577743"
      ]
     },
     "execution_count": 27,
     "metadata": {},
     "output_type": "execute_result"
    }
   ],
   "source": [
    "## Check for whether data is staionary series data or not : (Adfuller test) \n",
    "adfuller(train.electricty_consumption_in_tw)[1]\n",
    "\n",
    "## We can say that its not an stationary series data. and we need to make it staionary series data. "
   ]
  },
  {
   "cell_type": "markdown",
   "id": "ef8a2846",
   "metadata": {},
   "source": [
    "## Model building by ETS method : "
   ]
  },
  {
   "cell_type": "code",
   "execution_count": 28,
   "id": "e1be85a0",
   "metadata": {},
   "outputs": [],
   "source": [
    "from statsmodels.tsa.holtwinters import ExponentialSmoothing"
   ]
  },
  {
   "cell_type": "code",
   "execution_count": 29,
   "id": "609fa23b",
   "metadata": {},
   "outputs": [],
   "source": [
    "from sklearn.metrics import mean_absolute_error\n",
    "\n",
    "def auto_hwm(timeseries, val_split_date, alpha=[None], beta=[None], gamma=[None], \n",
    "              trend=None, seasonal=None, periods=None, verbose=False):\n",
    "\n",
    "    best_params = []\n",
    "    actual = timeseries[val_split_date:]\n",
    "\n",
    "    print('Evaluating Exponential Smoothing model for', len(alpha) * len(beta) * len(gamma), 'fits\\n')\n",
    "\n",
    "    for a in alpha:\n",
    "        for b in beta:\n",
    "            for g in gamma:\n",
    "\n",
    "                    if(verbose == True):\n",
    "                        print('Checking for', {'alpha': a, 'beta': b, 'gamma': g})\n",
    "\n",
    "                    model = ExponentialSmoothing(timeseries, trend=trend, seasonal=seasonal, seasonal_periods=periods)\n",
    "                    model.fit(smoothing_level=a, smoothing_slope=b, smoothing_seasonal=g)\n",
    "                    f_cast = model.predict(model.params, start=actual.index[0])\n",
    "                    score = np.where(np.float64(mean_absolute_error(actual, f_cast)/actual).mean()>0,np.float64(mean_absolute_error(actual, f_cast)/actual).mean(),0)\n",
    "\n",
    "                    best_params.append({'alpha': a, 'beta': b, 'gamma': g, 'mae': score})\n",
    "\n",
    "    return min(best_params, key=lambda x: x['mae'])"
   ]
  },
  {
   "cell_type": "code",
   "execution_count": 30,
   "id": "17d75ab1",
   "metadata": {},
   "outputs": [],
   "source": [
    "alpha = [0.1,0.2,0.3,0.4,0.5,0.6, .7,.8]\n",
    "beta = [0.1,0.2,0.3,0.4,0.5,0.6]\n",
    "gamma =[0.1,0.2,0.3,0.4,0.5,0.6]"
   ]
  },
  {
   "cell_type": "code",
   "execution_count": 31,
   "id": "567852f6",
   "metadata": {},
   "outputs": [],
   "source": [
    "ts = train.electricty_consumption_in_tw"
   ]
  },
  {
   "cell_type": "markdown",
   "id": "2a22e20f",
   "metadata": {},
   "source": [
    "## As we are using triple Exponential model as data have both trend and seasonality , so the unknows as alpha , Beta and Gamma."
   ]
  },
  {
   "cell_type": "code",
   "execution_count": 32,
   "id": "902aa7f5",
   "metadata": {},
   "outputs": [
    {
     "name": "stdout",
     "output_type": "stream",
     "text": [
      "Evaluating Exponential Smoothing model for 288 fits\n",
      "\n",
      "Checking for {'alpha': 0.1, 'beta': 0.1, 'gamma': 0.1}\n",
      "Checking for {'alpha': 0.1, 'beta': 0.1, 'gamma': 0.2}\n",
      "Checking for {'alpha': 0.1, 'beta': 0.1, 'gamma': 0.3}\n",
      "Checking for {'alpha': 0.1, 'beta': 0.1, 'gamma': 0.4}\n",
      "Checking for {'alpha': 0.1, 'beta': 0.1, 'gamma': 0.5}\n",
      "Checking for {'alpha': 0.1, 'beta': 0.1, 'gamma': 0.6}\n",
      "Checking for {'alpha': 0.1, 'beta': 0.2, 'gamma': 0.1}\n"
     ]
    },
    {
     "name": "stderr",
     "output_type": "stream",
     "text": [
      "C:\\Users\\ACER\\anaconda3\\lib\\site-packages\\statsmodels\\tsa\\base\\tsa_model.py:159: ValueWarning: No frequency information was provided, so inferred frequency MS will be used.\n",
      "  warnings.warn('No frequency information was'\n",
      "C:\\Users\\ACER\\anaconda3\\lib\\site-packages\\statsmodels\\tsa\\base\\tsa_model.py:159: ValueWarning: No frequency information was provided, so inferred frequency MS will be used.\n",
      "  warnings.warn('No frequency information was'\n",
      "C:\\Users\\ACER\\anaconda3\\lib\\site-packages\\statsmodels\\tsa\\base\\tsa_model.py:159: ValueWarning: No frequency information was provided, so inferred frequency MS will be used.\n",
      "  warnings.warn('No frequency information was'\n",
      "C:\\Users\\ACER\\anaconda3\\lib\\site-packages\\statsmodels\\tsa\\base\\tsa_model.py:159: ValueWarning: No frequency information was provided, so inferred frequency MS will be used.\n",
      "  warnings.warn('No frequency information was'\n",
      "C:\\Users\\ACER\\anaconda3\\lib\\site-packages\\statsmodels\\tsa\\base\\tsa_model.py:159: ValueWarning: No frequency information was provided, so inferred frequency MS will be used.\n",
      "  warnings.warn('No frequency information was'\n",
      "C:\\Users\\ACER\\anaconda3\\lib\\site-packages\\statsmodels\\tsa\\base\\tsa_model.py:159: ValueWarning: No frequency information was provided, so inferred frequency MS will be used.\n",
      "  warnings.warn('No frequency information was'\n",
      "C:\\Users\\ACER\\anaconda3\\lib\\site-packages\\statsmodels\\tsa\\base\\tsa_model.py:159: ValueWarning: No frequency information was provided, so inferred frequency MS will be used.\n",
      "  warnings.warn('No frequency information was'\n"
     ]
    },
    {
     "name": "stdout",
     "output_type": "stream",
     "text": [
      "Checking for {'alpha': 0.1, 'beta': 0.2, 'gamma': 0.2}\n",
      "Checking for {'alpha': 0.1, 'beta': 0.2, 'gamma': 0.3}\n",
      "Checking for {'alpha': 0.1, 'beta': 0.2, 'gamma': 0.4}\n",
      "Checking for {'alpha': 0.1, 'beta': 0.2, 'gamma': 0.5}\n",
      "Checking for {'alpha': 0.1, 'beta': 0.2, 'gamma': 0.6}\n",
      "Checking for {'alpha': 0.1, 'beta': 0.3, 'gamma': 0.1}\n",
      "Checking for {'alpha': 0.1, 'beta': 0.3, 'gamma': 0.2}\n",
      "Checking for {'alpha': 0.1, 'beta': 0.3, 'gamma': 0.3}\n",
      "Checking for {'alpha': 0.1, 'beta': 0.3, 'gamma': 0.4}\n",
      "Checking for {'alpha': 0.1, 'beta': 0.3, 'gamma': 0.5}\n",
      "Checking for {'alpha': 0.1, 'beta': 0.3, 'gamma': 0.6}\n",
      "Checking for {'alpha': 0.1, 'beta': 0.4, 'gamma': 0.1}\n",
      "Checking for {'alpha': 0.1, 'beta': 0.4, 'gamma': 0.2}\n",
      "Checking for {'alpha': 0.1, 'beta': 0.4, 'gamma': 0.3}\n",
      "Checking for {'alpha': 0.1, 'beta': 0.4, 'gamma': 0.4}\n",
      "Checking for {'alpha': 0.1, 'beta': 0.4, 'gamma': 0.5}\n"
     ]
    },
    {
     "name": "stderr",
     "output_type": "stream",
     "text": [
      "C:\\Users\\ACER\\anaconda3\\lib\\site-packages\\statsmodels\\tsa\\base\\tsa_model.py:159: ValueWarning: No frequency information was provided, so inferred frequency MS will be used.\n",
      "  warnings.warn('No frequency information was'\n",
      "C:\\Users\\ACER\\anaconda3\\lib\\site-packages\\statsmodels\\tsa\\base\\tsa_model.py:159: ValueWarning: No frequency information was provided, so inferred frequency MS will be used.\n",
      "  warnings.warn('No frequency information was'\n",
      "C:\\Users\\ACER\\anaconda3\\lib\\site-packages\\statsmodels\\tsa\\base\\tsa_model.py:159: ValueWarning: No frequency information was provided, so inferred frequency MS will be used.\n",
      "  warnings.warn('No frequency information was'\n",
      "C:\\Users\\ACER\\anaconda3\\lib\\site-packages\\statsmodels\\tsa\\base\\tsa_model.py:159: ValueWarning: No frequency information was provided, so inferred frequency MS will be used.\n",
      "  warnings.warn('No frequency information was'\n",
      "C:\\Users\\ACER\\anaconda3\\lib\\site-packages\\statsmodels\\tsa\\base\\tsa_model.py:159: ValueWarning: No frequency information was provided, so inferred frequency MS will be used.\n",
      "  warnings.warn('No frequency information was'\n",
      "C:\\Users\\ACER\\anaconda3\\lib\\site-packages\\statsmodels\\tsa\\base\\tsa_model.py:159: ValueWarning: No frequency information was provided, so inferred frequency MS will be used.\n",
      "  warnings.warn('No frequency information was'\n",
      "C:\\Users\\ACER\\anaconda3\\lib\\site-packages\\statsmodels\\tsa\\base\\tsa_model.py:159: ValueWarning: No frequency information was provided, so inferred frequency MS will be used.\n",
      "  warnings.warn('No frequency information was'\n",
      "C:\\Users\\ACER\\anaconda3\\lib\\site-packages\\statsmodels\\tsa\\base\\tsa_model.py:159: ValueWarning: No frequency information was provided, so inferred frequency MS will be used.\n",
      "  warnings.warn('No frequency information was'\n",
      "C:\\Users\\ACER\\anaconda3\\lib\\site-packages\\statsmodels\\tsa\\base\\tsa_model.py:159: ValueWarning: No frequency information was provided, so inferred frequency MS will be used.\n",
      "  warnings.warn('No frequency information was'\n",
      "C:\\Users\\ACER\\anaconda3\\lib\\site-packages\\statsmodels\\tsa\\base\\tsa_model.py:159: ValueWarning: No frequency information was provided, so inferred frequency MS will be used.\n",
      "  warnings.warn('No frequency information was'\n",
      "C:\\Users\\ACER\\anaconda3\\lib\\site-packages\\statsmodels\\tsa\\base\\tsa_model.py:159: ValueWarning: No frequency information was provided, so inferred frequency MS will be used.\n",
      "  warnings.warn('No frequency information was'\n",
      "C:\\Users\\ACER\\anaconda3\\lib\\site-packages\\statsmodels\\tsa\\base\\tsa_model.py:159: ValueWarning: No frequency information was provided, so inferred frequency MS will be used.\n",
      "  warnings.warn('No frequency information was'\n",
      "C:\\Users\\ACER\\anaconda3\\lib\\site-packages\\statsmodels\\tsa\\base\\tsa_model.py:159: ValueWarning: No frequency information was provided, so inferred frequency MS will be used.\n",
      "  warnings.warn('No frequency information was'\n",
      "C:\\Users\\ACER\\anaconda3\\lib\\site-packages\\statsmodels\\tsa\\base\\tsa_model.py:159: ValueWarning: No frequency information was provided, so inferred frequency MS will be used.\n",
      "  warnings.warn('No frequency information was'\n",
      "C:\\Users\\ACER\\anaconda3\\lib\\site-packages\\statsmodels\\tsa\\base\\tsa_model.py:159: ValueWarning: No frequency information was provided, so inferred frequency MS will be used.\n",
      "  warnings.warn('No frequency information was'\n",
      "C:\\Users\\ACER\\anaconda3\\lib\\site-packages\\statsmodels\\tsa\\base\\tsa_model.py:159: ValueWarning: No frequency information was provided, so inferred frequency MS will be used.\n",
      "  warnings.warn('No frequency information was'\n"
     ]
    },
    {
     "name": "stdout",
     "output_type": "stream",
     "text": [
      "Checking for {'alpha': 0.1, 'beta': 0.4, 'gamma': 0.6}\n",
      "Checking for {'alpha': 0.1, 'beta': 0.5, 'gamma': 0.1}\n",
      "Checking for {'alpha': 0.1, 'beta': 0.5, 'gamma': 0.2}\n",
      "Checking for {'alpha': 0.1, 'beta': 0.5, 'gamma': 0.3}\n",
      "Checking for {'alpha': 0.1, 'beta': 0.5, 'gamma': 0.4}\n",
      "Checking for {'alpha': 0.1, 'beta': 0.5, 'gamma': 0.5}\n",
      "Checking for {'alpha': 0.1, 'beta': 0.5, 'gamma': 0.6}\n",
      "Checking for {'alpha': 0.1, 'beta': 0.6, 'gamma': 0.1}\n",
      "Checking for {'alpha': 0.1, 'beta': 0.6, 'gamma': 0.2}\n",
      "Checking for {'alpha': 0.1, 'beta': 0.6, 'gamma': 0.3}\n",
      "Checking for {'alpha': 0.1, 'beta': 0.6, 'gamma': 0.4}\n",
      "Checking for {'alpha': 0.1, 'beta': 0.6, 'gamma': 0.5}\n",
      "Checking for {'alpha': 0.1, 'beta': 0.6, 'gamma': 0.6}\n",
      "Checking for {'alpha': 0.2, 'beta': 0.1, 'gamma': 0.1}\n",
      "Checking for {'alpha': 0.2, 'beta': 0.1, 'gamma': 0.2}\n"
     ]
    },
    {
     "name": "stderr",
     "output_type": "stream",
     "text": [
      "C:\\Users\\ACER\\anaconda3\\lib\\site-packages\\statsmodels\\tsa\\base\\tsa_model.py:159: ValueWarning: No frequency information was provided, so inferred frequency MS will be used.\n",
      "  warnings.warn('No frequency information was'\n",
      "C:\\Users\\ACER\\anaconda3\\lib\\site-packages\\statsmodels\\tsa\\base\\tsa_model.py:159: ValueWarning: No frequency information was provided, so inferred frequency MS will be used.\n",
      "  warnings.warn('No frequency information was'\n",
      "C:\\Users\\ACER\\anaconda3\\lib\\site-packages\\statsmodels\\tsa\\base\\tsa_model.py:159: ValueWarning: No frequency information was provided, so inferred frequency MS will be used.\n",
      "  warnings.warn('No frequency information was'\n",
      "C:\\Users\\ACER\\anaconda3\\lib\\site-packages\\statsmodels\\tsa\\base\\tsa_model.py:159: ValueWarning: No frequency information was provided, so inferred frequency MS will be used.\n",
      "  warnings.warn('No frequency information was'\n",
      "C:\\Users\\ACER\\anaconda3\\lib\\site-packages\\statsmodels\\tsa\\base\\tsa_model.py:159: ValueWarning: No frequency information was provided, so inferred frequency MS will be used.\n",
      "  warnings.warn('No frequency information was'\n",
      "C:\\Users\\ACER\\anaconda3\\lib\\site-packages\\statsmodels\\tsa\\base\\tsa_model.py:159: ValueWarning: No frequency information was provided, so inferred frequency MS will be used.\n",
      "  warnings.warn('No frequency information was'\n",
      "C:\\Users\\ACER\\anaconda3\\lib\\site-packages\\statsmodels\\tsa\\base\\tsa_model.py:159: ValueWarning: No frequency information was provided, so inferred frequency MS will be used.\n",
      "  warnings.warn('No frequency information was'\n",
      "C:\\Users\\ACER\\anaconda3\\lib\\site-packages\\statsmodels\\tsa\\base\\tsa_model.py:159: ValueWarning: No frequency information was provided, so inferred frequency MS will be used.\n",
      "  warnings.warn('No frequency information was'\n",
      "C:\\Users\\ACER\\anaconda3\\lib\\site-packages\\statsmodels\\tsa\\base\\tsa_model.py:159: ValueWarning: No frequency information was provided, so inferred frequency MS will be used.\n",
      "  warnings.warn('No frequency information was'\n",
      "C:\\Users\\ACER\\anaconda3\\lib\\site-packages\\statsmodels\\tsa\\base\\tsa_model.py:159: ValueWarning: No frequency information was provided, so inferred frequency MS will be used.\n",
      "  warnings.warn('No frequency information was'\n",
      "C:\\Users\\ACER\\anaconda3\\lib\\site-packages\\statsmodels\\tsa\\base\\tsa_model.py:159: ValueWarning: No frequency information was provided, so inferred frequency MS will be used.\n",
      "  warnings.warn('No frequency information was'\n",
      "C:\\Users\\ACER\\anaconda3\\lib\\site-packages\\statsmodels\\tsa\\base\\tsa_model.py:159: ValueWarning: No frequency information was provided, so inferred frequency MS will be used.\n",
      "  warnings.warn('No frequency information was'\n",
      "C:\\Users\\ACER\\anaconda3\\lib\\site-packages\\statsmodels\\tsa\\base\\tsa_model.py:159: ValueWarning: No frequency information was provided, so inferred frequency MS will be used.\n",
      "  warnings.warn('No frequency information was'\n",
      "C:\\Users\\ACER\\anaconda3\\lib\\site-packages\\statsmodels\\tsa\\base\\tsa_model.py:159: ValueWarning: No frequency information was provided, so inferred frequency MS will be used.\n",
      "  warnings.warn('No frequency information was'\n",
      "C:\\Users\\ACER\\anaconda3\\lib\\site-packages\\statsmodels\\tsa\\base\\tsa_model.py:159: ValueWarning: No frequency information was provided, so inferred frequency MS will be used.\n",
      "  warnings.warn('No frequency information was'\n"
     ]
    },
    {
     "name": "stdout",
     "output_type": "stream",
     "text": [
      "Checking for {'alpha': 0.2, 'beta': 0.1, 'gamma': 0.3}\n",
      "Checking for {'alpha': 0.2, 'beta': 0.1, 'gamma': 0.4}\n",
      "Checking for {'alpha': 0.2, 'beta': 0.1, 'gamma': 0.5}\n",
      "Checking for {'alpha': 0.2, 'beta': 0.1, 'gamma': 0.6}\n",
      "Checking for {'alpha': 0.2, 'beta': 0.2, 'gamma': 0.1}\n",
      "Checking for {'alpha': 0.2, 'beta': 0.2, 'gamma': 0.2}\n",
      "Checking for {'alpha': 0.2, 'beta': 0.2, 'gamma': 0.3}\n",
      "Checking for {'alpha': 0.2, 'beta': 0.2, 'gamma': 0.4}\n",
      "Checking for {'alpha': 0.2, 'beta': 0.2, 'gamma': 0.5}\n"
     ]
    },
    {
     "name": "stderr",
     "output_type": "stream",
     "text": [
      "C:\\Users\\ACER\\anaconda3\\lib\\site-packages\\statsmodels\\tsa\\base\\tsa_model.py:159: ValueWarning: No frequency information was provided, so inferred frequency MS will be used.\n",
      "  warnings.warn('No frequency information was'\n",
      "C:\\Users\\ACER\\anaconda3\\lib\\site-packages\\statsmodels\\tsa\\base\\tsa_model.py:159: ValueWarning: No frequency information was provided, so inferred frequency MS will be used.\n",
      "  warnings.warn('No frequency information was'\n",
      "C:\\Users\\ACER\\anaconda3\\lib\\site-packages\\statsmodels\\tsa\\base\\tsa_model.py:159: ValueWarning: No frequency information was provided, so inferred frequency MS will be used.\n",
      "  warnings.warn('No frequency information was'\n",
      "C:\\Users\\ACER\\anaconda3\\lib\\site-packages\\statsmodels\\tsa\\base\\tsa_model.py:159: ValueWarning: No frequency information was provided, so inferred frequency MS will be used.\n",
      "  warnings.warn('No frequency information was'\n",
      "C:\\Users\\ACER\\anaconda3\\lib\\site-packages\\statsmodels\\tsa\\base\\tsa_model.py:159: ValueWarning: No frequency information was provided, so inferred frequency MS will be used.\n",
      "  warnings.warn('No frequency information was'\n",
      "C:\\Users\\ACER\\anaconda3\\lib\\site-packages\\statsmodels\\tsa\\base\\tsa_model.py:159: ValueWarning: No frequency information was provided, so inferred frequency MS will be used.\n",
      "  warnings.warn('No frequency information was'\n",
      "C:\\Users\\ACER\\anaconda3\\lib\\site-packages\\statsmodels\\tsa\\base\\tsa_model.py:159: ValueWarning: No frequency information was provided, so inferred frequency MS will be used.\n",
      "  warnings.warn('No frequency information was'\n",
      "C:\\Users\\ACER\\anaconda3\\lib\\site-packages\\statsmodels\\tsa\\base\\tsa_model.py:159: ValueWarning: No frequency information was provided, so inferred frequency MS will be used.\n",
      "  warnings.warn('No frequency information was'\n",
      "C:\\Users\\ACER\\anaconda3\\lib\\site-packages\\statsmodels\\tsa\\base\\tsa_model.py:159: ValueWarning: No frequency information was provided, so inferred frequency MS will be used.\n",
      "  warnings.warn('No frequency information was'\n",
      "C:\\Users\\ACER\\anaconda3\\lib\\site-packages\\scipy\\optimize\\_numdiff.py:557: RuntimeWarning: invalid value encountered in subtract\n",
      "  df = fun(x) - f0\n",
      "C:\\Users\\ACER\\anaconda3\\lib\\site-packages\\statsmodels\\tsa\\base\\tsa_model.py:159: ValueWarning: No frequency information was provided, so inferred frequency MS will be used.\n",
      "  warnings.warn('No frequency information was'\n",
      "C:\\Users\\ACER\\anaconda3\\lib\\site-packages\\statsmodels\\tsa\\base\\tsa_model.py:159: ValueWarning: No frequency information was provided, so inferred frequency MS will be used.\n",
      "  warnings.warn('No frequency information was'\n",
      "C:\\Users\\ACER\\anaconda3\\lib\\site-packages\\statsmodels\\tsa\\base\\tsa_model.py:159: ValueWarning: No frequency information was provided, so inferred frequency MS will be used.\n",
      "  warnings.warn('No frequency information was'\n",
      "C:\\Users\\ACER\\anaconda3\\lib\\site-packages\\statsmodels\\tsa\\base\\tsa_model.py:159: ValueWarning: No frequency information was provided, so inferred frequency MS will be used.\n",
      "  warnings.warn('No frequency information was'\n",
      "C:\\Users\\ACER\\anaconda3\\lib\\site-packages\\statsmodels\\tsa\\base\\tsa_model.py:159: ValueWarning: No frequency information was provided, so inferred frequency MS will be used.\n",
      "  warnings.warn('No frequency information was'\n",
      "C:\\Users\\ACER\\anaconda3\\lib\\site-packages\\statsmodels\\tsa\\base\\tsa_model.py:159: ValueWarning: No frequency information was provided, so inferred frequency MS will be used.\n",
      "  warnings.warn('No frequency information was'\n",
      "C:\\Users\\ACER\\anaconda3\\lib\\site-packages\\statsmodels\\tsa\\base\\tsa_model.py:159: ValueWarning: No frequency information was provided, so inferred frequency MS will be used.\n",
      "  warnings.warn('No frequency information was'\n",
      "C:\\Users\\ACER\\anaconda3\\lib\\site-packages\\statsmodels\\tsa\\base\\tsa_model.py:159: ValueWarning: No frequency information was provided, so inferred frequency MS will be used.\n",
      "  warnings.warn('No frequency information was'\n",
      "C:\\Users\\ACER\\anaconda3\\lib\\site-packages\\statsmodels\\tsa\\base\\tsa_model.py:159: ValueWarning: No frequency information was provided, so inferred frequency MS will be used.\n",
      "  warnings.warn('No frequency information was'\n"
     ]
    },
    {
     "name": "stdout",
     "output_type": "stream",
     "text": [
      "Checking for {'alpha': 0.2, 'beta': 0.2, 'gamma': 0.6}\n",
      "Checking for {'alpha': 0.2, 'beta': 0.3, 'gamma': 0.1}\n",
      "Checking for {'alpha': 0.2, 'beta': 0.3, 'gamma': 0.2}\n",
      "Checking for {'alpha': 0.2, 'beta': 0.3, 'gamma': 0.3}\n",
      "Checking for {'alpha': 0.2, 'beta': 0.3, 'gamma': 0.4}\n",
      "Checking for {'alpha': 0.2, 'beta': 0.3, 'gamma': 0.5}\n",
      "Checking for {'alpha': 0.2, 'beta': 0.3, 'gamma': 0.6}\n",
      "Checking for {'alpha': 0.2, 'beta': 0.4, 'gamma': 0.1}\n",
      "Checking for {'alpha': 0.2, 'beta': 0.4, 'gamma': 0.2}\n",
      "Checking for {'alpha': 0.2, 'beta': 0.4, 'gamma': 0.3}\n",
      "Checking for {'alpha': 0.2, 'beta': 0.4, 'gamma': 0.4}\n",
      "Checking for {'alpha': 0.2, 'beta': 0.4, 'gamma': 0.5}\n",
      "Checking for {'alpha': 0.2, 'beta': 0.4, 'gamma': 0.6}\n",
      "Checking for {'alpha': 0.2, 'beta': 0.5, 'gamma': 0.1}\n",
      "Checking for {'alpha': 0.2, 'beta': 0.5, 'gamma': 0.2}\n",
      "Checking for {'alpha': 0.2, 'beta': 0.5, 'gamma': 0.3}\n",
      "Checking for {'alpha': 0.2, 'beta': 0.5, 'gamma': 0.4}\n",
      "Checking for {'alpha': 0.2, 'beta': 0.5, 'gamma': 0.5}\n",
      "Checking for {'alpha': 0.2, 'beta': 0.5, 'gamma': 0.6}\n"
     ]
    },
    {
     "name": "stderr",
     "output_type": "stream",
     "text": [
      "C:\\Users\\ACER\\anaconda3\\lib\\site-packages\\statsmodels\\tsa\\base\\tsa_model.py:159: ValueWarning: No frequency information was provided, so inferred frequency MS will be used.\n",
      "  warnings.warn('No frequency information was'\n",
      "C:\\Users\\ACER\\anaconda3\\lib\\site-packages\\statsmodels\\tsa\\base\\tsa_model.py:159: ValueWarning: No frequency information was provided, so inferred frequency MS will be used.\n",
      "  warnings.warn('No frequency information was'\n",
      "C:\\Users\\ACER\\anaconda3\\lib\\site-packages\\statsmodels\\tsa\\base\\tsa_model.py:159: ValueWarning: No frequency information was provided, so inferred frequency MS will be used.\n",
      "  warnings.warn('No frequency information was'\n",
      "C:\\Users\\ACER\\anaconda3\\lib\\site-packages\\statsmodels\\tsa\\base\\tsa_model.py:159: ValueWarning: No frequency information was provided, so inferred frequency MS will be used.\n",
      "  warnings.warn('No frequency information was'\n",
      "C:\\Users\\ACER\\anaconda3\\lib\\site-packages\\statsmodels\\tsa\\base\\tsa_model.py:159: ValueWarning: No frequency information was provided, so inferred frequency MS will be used.\n",
      "  warnings.warn('No frequency information was'\n",
      "C:\\Users\\ACER\\anaconda3\\lib\\site-packages\\statsmodels\\tsa\\base\\tsa_model.py:159: ValueWarning: No frequency information was provided, so inferred frequency MS will be used.\n",
      "  warnings.warn('No frequency information was'\n",
      "C:\\Users\\ACER\\anaconda3\\lib\\site-packages\\statsmodels\\tsa\\base\\tsa_model.py:159: ValueWarning: No frequency information was provided, so inferred frequency MS will be used.\n",
      "  warnings.warn('No frequency information was'\n",
      "C:\\Users\\ACER\\anaconda3\\lib\\site-packages\\statsmodels\\tsa\\base\\tsa_model.py:159: ValueWarning: No frequency information was provided, so inferred frequency MS will be used.\n",
      "  warnings.warn('No frequency information was'\n",
      "C:\\Users\\ACER\\anaconda3\\lib\\site-packages\\statsmodels\\tsa\\base\\tsa_model.py:159: ValueWarning: No frequency information was provided, so inferred frequency MS will be used.\n",
      "  warnings.warn('No frequency information was'\n",
      "C:\\Users\\ACER\\anaconda3\\lib\\site-packages\\statsmodels\\tsa\\base\\tsa_model.py:159: ValueWarning: No frequency information was provided, so inferred frequency MS will be used.\n",
      "  warnings.warn('No frequency information was'\n"
     ]
    },
    {
     "name": "stdout",
     "output_type": "stream",
     "text": [
      "Checking for {'alpha': 0.2, 'beta': 0.6, 'gamma': 0.1}\n",
      "Checking for {'alpha': 0.2, 'beta': 0.6, 'gamma': 0.2}\n",
      "Checking for {'alpha': 0.2, 'beta': 0.6, 'gamma': 0.3}\n",
      "Checking for {'alpha': 0.2, 'beta': 0.6, 'gamma': 0.4}\n",
      "Checking for {'alpha': 0.2, 'beta': 0.6, 'gamma': 0.5}\n",
      "Checking for {'alpha': 0.2, 'beta': 0.6, 'gamma': 0.6}\n",
      "Checking for {'alpha': 0.3, 'beta': 0.1, 'gamma': 0.1}\n",
      "Checking for {'alpha': 0.3, 'beta': 0.1, 'gamma': 0.2}\n",
      "Checking for {'alpha': 0.3, 'beta': 0.1, 'gamma': 0.3}\n",
      "Checking for {'alpha': 0.3, 'beta': 0.1, 'gamma': 0.4}\n"
     ]
    },
    {
     "name": "stderr",
     "output_type": "stream",
     "text": [
      "C:\\Users\\ACER\\anaconda3\\lib\\site-packages\\statsmodels\\tsa\\base\\tsa_model.py:159: ValueWarning: No frequency information was provided, so inferred frequency MS will be used.\n",
      "  warnings.warn('No frequency information was'\n",
      "C:\\Users\\ACER\\anaconda3\\lib\\site-packages\\statsmodels\\tsa\\base\\tsa_model.py:159: ValueWarning: No frequency information was provided, so inferred frequency MS will be used.\n",
      "  warnings.warn('No frequency information was'\n",
      "C:\\Users\\ACER\\anaconda3\\lib\\site-packages\\statsmodels\\tsa\\base\\tsa_model.py:159: ValueWarning: No frequency information was provided, so inferred frequency MS will be used.\n",
      "  warnings.warn('No frequency information was'\n",
      "C:\\Users\\ACER\\anaconda3\\lib\\site-packages\\statsmodels\\tsa\\base\\tsa_model.py:159: ValueWarning: No frequency information was provided, so inferred frequency MS will be used.\n",
      "  warnings.warn('No frequency information was'\n",
      "C:\\Users\\ACER\\anaconda3\\lib\\site-packages\\statsmodels\\tsa\\base\\tsa_model.py:159: ValueWarning: No frequency information was provided, so inferred frequency MS will be used.\n",
      "  warnings.warn('No frequency information was'\n",
      "C:\\Users\\ACER\\anaconda3\\lib\\site-packages\\statsmodels\\tsa\\base\\tsa_model.py:159: ValueWarning: No frequency information was provided, so inferred frequency MS will be used.\n",
      "  warnings.warn('No frequency information was'\n",
      "C:\\Users\\ACER\\anaconda3\\lib\\site-packages\\statsmodels\\tsa\\base\\tsa_model.py:159: ValueWarning: No frequency information was provided, so inferred frequency MS will be used.\n",
      "  warnings.warn('No frequency information was'\n",
      "C:\\Users\\ACER\\anaconda3\\lib\\site-packages\\statsmodels\\tsa\\base\\tsa_model.py:159: ValueWarning: No frequency information was provided, so inferred frequency MS will be used.\n",
      "  warnings.warn('No frequency information was'\n",
      "C:\\Users\\ACER\\anaconda3\\lib\\site-packages\\statsmodels\\tsa\\base\\tsa_model.py:159: ValueWarning: No frequency information was provided, so inferred frequency MS will be used.\n",
      "  warnings.warn('No frequency information was'\n",
      "C:\\Users\\ACER\\anaconda3\\lib\\site-packages\\statsmodels\\tsa\\base\\tsa_model.py:159: ValueWarning: No frequency information was provided, so inferred frequency MS will be used.\n",
      "  warnings.warn('No frequency information was'\n"
     ]
    },
    {
     "name": "stdout",
     "output_type": "stream",
     "text": [
      "Checking for {'alpha': 0.3, 'beta': 0.1, 'gamma': 0.5}\n",
      "Checking for {'alpha': 0.3, 'beta': 0.1, 'gamma': 0.6}\n",
      "Checking for {'alpha': 0.3, 'beta': 0.2, 'gamma': 0.1}\n",
      "Checking for {'alpha': 0.3, 'beta': 0.2, 'gamma': 0.2}\n",
      "Checking for {'alpha': 0.3, 'beta': 0.2, 'gamma': 0.3}\n",
      "Checking for {'alpha': 0.3, 'beta': 0.2, 'gamma': 0.4}\n",
      "Checking for {'alpha': 0.3, 'beta': 0.2, 'gamma': 0.5}\n"
     ]
    },
    {
     "name": "stderr",
     "output_type": "stream",
     "text": [
      "C:\\Users\\ACER\\anaconda3\\lib\\site-packages\\statsmodels\\tsa\\base\\tsa_model.py:159: ValueWarning: No frequency information was provided, so inferred frequency MS will be used.\n",
      "  warnings.warn('No frequency information was'\n",
      "C:\\Users\\ACER\\anaconda3\\lib\\site-packages\\statsmodels\\tsa\\base\\tsa_model.py:159: ValueWarning: No frequency information was provided, so inferred frequency MS will be used.\n",
      "  warnings.warn('No frequency information was'\n",
      "C:\\Users\\ACER\\anaconda3\\lib\\site-packages\\statsmodels\\tsa\\base\\tsa_model.py:159: ValueWarning: No frequency information was provided, so inferred frequency MS will be used.\n",
      "  warnings.warn('No frequency information was'\n",
      "C:\\Users\\ACER\\anaconda3\\lib\\site-packages\\statsmodels\\tsa\\base\\tsa_model.py:159: ValueWarning: No frequency information was provided, so inferred frequency MS will be used.\n",
      "  warnings.warn('No frequency information was'\n",
      "C:\\Users\\ACER\\anaconda3\\lib\\site-packages\\statsmodels\\tsa\\base\\tsa_model.py:159: ValueWarning: No frequency information was provided, so inferred frequency MS will be used.\n",
      "  warnings.warn('No frequency information was'\n",
      "C:\\Users\\ACER\\anaconda3\\lib\\site-packages\\statsmodels\\tsa\\base\\tsa_model.py:159: ValueWarning: No frequency information was provided, so inferred frequency MS will be used.\n",
      "  warnings.warn('No frequency information was'\n",
      "C:\\Users\\ACER\\anaconda3\\lib\\site-packages\\statsmodels\\tsa\\base\\tsa_model.py:159: ValueWarning: No frequency information was provided, so inferred frequency MS will be used.\n",
      "  warnings.warn('No frequency information was'\n",
      "C:\\Users\\ACER\\anaconda3\\lib\\site-packages\\statsmodels\\tsa\\base\\tsa_model.py:159: ValueWarning: No frequency information was provided, so inferred frequency MS will be used.\n",
      "  warnings.warn('No frequency information was'\n",
      "C:\\Users\\ACER\\anaconda3\\lib\\site-packages\\statsmodels\\tsa\\base\\tsa_model.py:159: ValueWarning: No frequency information was provided, so inferred frequency MS will be used.\n",
      "  warnings.warn('No frequency information was'\n",
      "C:\\Users\\ACER\\anaconda3\\lib\\site-packages\\statsmodels\\tsa\\base\\tsa_model.py:159: ValueWarning: No frequency information was provided, so inferred frequency MS will be used.\n",
      "  warnings.warn('No frequency information was'\n",
      "C:\\Users\\ACER\\anaconda3\\lib\\site-packages\\statsmodels\\tsa\\base\\tsa_model.py:159: ValueWarning: No frequency information was provided, so inferred frequency MS will be used.\n",
      "  warnings.warn('No frequency information was'\n",
      "C:\\Users\\ACER\\anaconda3\\lib\\site-packages\\statsmodels\\tsa\\base\\tsa_model.py:159: ValueWarning: No frequency information was provided, so inferred frequency MS will be used.\n",
      "  warnings.warn('No frequency information was'\n"
     ]
    },
    {
     "name": "stdout",
     "output_type": "stream",
     "text": [
      "Checking for {'alpha': 0.3, 'beta': 0.2, 'gamma': 0.6}\n",
      "Checking for {'alpha': 0.3, 'beta': 0.3, 'gamma': 0.1}\n",
      "Checking for {'alpha': 0.3, 'beta': 0.3, 'gamma': 0.2}\n",
      "Checking for {'alpha': 0.3, 'beta': 0.3, 'gamma': 0.3}\n",
      "Checking for {'alpha': 0.3, 'beta': 0.3, 'gamma': 0.4}\n",
      "Checking for {'alpha': 0.3, 'beta': 0.3, 'gamma': 0.5}\n",
      "Checking for {'alpha': 0.3, 'beta': 0.3, 'gamma': 0.6}\n",
      "Checking for {'alpha': 0.3, 'beta': 0.4, 'gamma': 0.1}\n",
      "Checking for {'alpha': 0.3, 'beta': 0.4, 'gamma': 0.2}\n",
      "Checking for {'alpha': 0.3, 'beta': 0.4, 'gamma': 0.3}\n",
      "Checking for {'alpha': 0.3, 'beta': 0.4, 'gamma': 0.4}\n",
      "Checking for {'alpha': 0.3, 'beta': 0.4, 'gamma': 0.5}\n",
      "Checking for {'alpha': 0.3, 'beta': 0.4, 'gamma': 0.6}\n",
      "Checking for {'alpha': 0.3, 'beta': 0.5, 'gamma': 0.1}\n"
     ]
    },
    {
     "name": "stderr",
     "output_type": "stream",
     "text": [
      "C:\\Users\\ACER\\anaconda3\\lib\\site-packages\\statsmodels\\tsa\\base\\tsa_model.py:159: ValueWarning: No frequency information was provided, so inferred frequency MS will be used.\n",
      "  warnings.warn('No frequency information was'\n",
      "C:\\Users\\ACER\\anaconda3\\lib\\site-packages\\statsmodels\\tsa\\base\\tsa_model.py:159: ValueWarning: No frequency information was provided, so inferred frequency MS will be used.\n",
      "  warnings.warn('No frequency information was'\n",
      "C:\\Users\\ACER\\anaconda3\\lib\\site-packages\\statsmodels\\tsa\\base\\tsa_model.py:159: ValueWarning: No frequency information was provided, so inferred frequency MS will be used.\n",
      "  warnings.warn('No frequency information was'\n",
      "C:\\Users\\ACER\\anaconda3\\lib\\site-packages\\statsmodels\\tsa\\base\\tsa_model.py:159: ValueWarning: No frequency information was provided, so inferred frequency MS will be used.\n",
      "  warnings.warn('No frequency information was'\n",
      "C:\\Users\\ACER\\anaconda3\\lib\\site-packages\\statsmodels\\tsa\\base\\tsa_model.py:159: ValueWarning: No frequency information was provided, so inferred frequency MS will be used.\n",
      "  warnings.warn('No frequency information was'\n",
      "C:\\Users\\ACER\\anaconda3\\lib\\site-packages\\statsmodels\\tsa\\base\\tsa_model.py:159: ValueWarning: No frequency information was provided, so inferred frequency MS will be used.\n",
      "  warnings.warn('No frequency information was'\n",
      "C:\\Users\\ACER\\anaconda3\\lib\\site-packages\\statsmodels\\tsa\\base\\tsa_model.py:159: ValueWarning: No frequency information was provided, so inferred frequency MS will be used.\n",
      "  warnings.warn('No frequency information was'\n",
      "C:\\Users\\ACER\\anaconda3\\lib\\site-packages\\statsmodels\\tsa\\base\\tsa_model.py:159: ValueWarning: No frequency information was provided, so inferred frequency MS will be used.\n",
      "  warnings.warn('No frequency information was'\n",
      "C:\\Users\\ACER\\anaconda3\\lib\\site-packages\\statsmodels\\tsa\\base\\tsa_model.py:159: ValueWarning: No frequency information was provided, so inferred frequency MS will be used.\n",
      "  warnings.warn('No frequency information was'\n",
      "C:\\Users\\ACER\\anaconda3\\lib\\site-packages\\statsmodels\\tsa\\base\\tsa_model.py:159: ValueWarning: No frequency information was provided, so inferred frequency MS will be used.\n",
      "  warnings.warn('No frequency information was'\n",
      "C:\\Users\\ACER\\anaconda3\\lib\\site-packages\\statsmodels\\tsa\\base\\tsa_model.py:159: ValueWarning: No frequency information was provided, so inferred frequency MS will be used.\n",
      "  warnings.warn('No frequency information was'\n",
      "C:\\Users\\ACER\\anaconda3\\lib\\site-packages\\statsmodels\\tsa\\base\\tsa_model.py:159: ValueWarning: No frequency information was provided, so inferred frequency MS will be used.\n",
      "  warnings.warn('No frequency information was'\n",
      "C:\\Users\\ACER\\anaconda3\\lib\\site-packages\\statsmodels\\tsa\\base\\tsa_model.py:159: ValueWarning: No frequency information was provided, so inferred frequency MS will be used.\n",
      "  warnings.warn('No frequency information was'\n",
      "C:\\Users\\ACER\\anaconda3\\lib\\site-packages\\statsmodels\\tsa\\base\\tsa_model.py:159: ValueWarning: No frequency information was provided, so inferred frequency MS will be used.\n",
      "  warnings.warn('No frequency information was'\n",
      "C:\\Users\\ACER\\anaconda3\\lib\\site-packages\\statsmodels\\tsa\\base\\tsa_model.py:159: ValueWarning: No frequency information was provided, so inferred frequency MS will be used.\n",
      "  warnings.warn('No frequency information was'\n",
      "C:\\Users\\ACER\\anaconda3\\lib\\site-packages\\statsmodels\\tsa\\base\\tsa_model.py:159: ValueWarning: No frequency information was provided, so inferred frequency MS will be used.\n",
      "  warnings.warn('No frequency information was'\n"
     ]
    },
    {
     "name": "stdout",
     "output_type": "stream",
     "text": [
      "Checking for {'alpha': 0.3, 'beta': 0.5, 'gamma': 0.2}\n",
      "Checking for {'alpha': 0.3, 'beta': 0.5, 'gamma': 0.3}\n",
      "Checking for {'alpha': 0.3, 'beta': 0.5, 'gamma': 0.4}\n",
      "Checking for {'alpha': 0.3, 'beta': 0.5, 'gamma': 0.5}\n",
      "Checking for {'alpha': 0.3, 'beta': 0.5, 'gamma': 0.6}\n",
      "Checking for {'alpha': 0.3, 'beta': 0.6, 'gamma': 0.1}\n",
      "Checking for {'alpha': 0.3, 'beta': 0.6, 'gamma': 0.2}\n",
      "Checking for {'alpha': 0.3, 'beta': 0.6, 'gamma': 0.3}\n",
      "Checking for {'alpha': 0.3, 'beta': 0.6, 'gamma': 0.4}\n",
      "Checking for {'alpha': 0.3, 'beta': 0.6, 'gamma': 0.5}\n"
     ]
    },
    {
     "name": "stderr",
     "output_type": "stream",
     "text": [
      "C:\\Users\\ACER\\anaconda3\\lib\\site-packages\\statsmodels\\tsa\\base\\tsa_model.py:159: ValueWarning: No frequency information was provided, so inferred frequency MS will be used.\n",
      "  warnings.warn('No frequency information was'\n",
      "C:\\Users\\ACER\\anaconda3\\lib\\site-packages\\statsmodels\\tsa\\base\\tsa_model.py:159: ValueWarning: No frequency information was provided, so inferred frequency MS will be used.\n",
      "  warnings.warn('No frequency information was'\n",
      "C:\\Users\\ACER\\anaconda3\\lib\\site-packages\\statsmodels\\tsa\\base\\tsa_model.py:159: ValueWarning: No frequency information was provided, so inferred frequency MS will be used.\n",
      "  warnings.warn('No frequency information was'\n",
      "C:\\Users\\ACER\\anaconda3\\lib\\site-packages\\statsmodels\\tsa\\base\\tsa_model.py:159: ValueWarning: No frequency information was provided, so inferred frequency MS will be used.\n",
      "  warnings.warn('No frequency information was'\n",
      "C:\\Users\\ACER\\anaconda3\\lib\\site-packages\\statsmodels\\tsa\\base\\tsa_model.py:159: ValueWarning: No frequency information was provided, so inferred frequency MS will be used.\n",
      "  warnings.warn('No frequency information was'\n",
      "C:\\Users\\ACER\\anaconda3\\lib\\site-packages\\statsmodels\\tsa\\base\\tsa_model.py:159: ValueWarning: No frequency information was provided, so inferred frequency MS will be used.\n",
      "  warnings.warn('No frequency information was'\n",
      "C:\\Users\\ACER\\anaconda3\\lib\\site-packages\\statsmodels\\tsa\\base\\tsa_model.py:159: ValueWarning: No frequency information was provided, so inferred frequency MS will be used.\n",
      "  warnings.warn('No frequency information was'\n",
      "C:\\Users\\ACER\\anaconda3\\lib\\site-packages\\statsmodels\\tsa\\base\\tsa_model.py:159: ValueWarning: No frequency information was provided, so inferred frequency MS will be used.\n",
      "  warnings.warn('No frequency information was'\n"
     ]
    },
    {
     "name": "stdout",
     "output_type": "stream",
     "text": [
      "Checking for {'alpha': 0.3, 'beta': 0.6, 'gamma': 0.6}\n",
      "Checking for {'alpha': 0.4, 'beta': 0.1, 'gamma': 0.1}\n",
      "Checking for {'alpha': 0.4, 'beta': 0.1, 'gamma': 0.2}\n",
      "Checking for {'alpha': 0.4, 'beta': 0.1, 'gamma': 0.3}\n",
      "Checking for {'alpha': 0.4, 'beta': 0.1, 'gamma': 0.4}\n",
      "Checking for {'alpha': 0.4, 'beta': 0.1, 'gamma': 0.5}\n",
      "Checking for {'alpha': 0.4, 'beta': 0.1, 'gamma': 0.6}\n"
     ]
    },
    {
     "name": "stderr",
     "output_type": "stream",
     "text": [
      "C:\\Users\\ACER\\anaconda3\\lib\\site-packages\\statsmodels\\tsa\\base\\tsa_model.py:159: ValueWarning: No frequency information was provided, so inferred frequency MS will be used.\n",
      "  warnings.warn('No frequency information was'\n",
      "C:\\Users\\ACER\\anaconda3\\lib\\site-packages\\statsmodels\\tsa\\base\\tsa_model.py:159: ValueWarning: No frequency information was provided, so inferred frequency MS will be used.\n",
      "  warnings.warn('No frequency information was'\n",
      "C:\\Users\\ACER\\anaconda3\\lib\\site-packages\\statsmodels\\tsa\\base\\tsa_model.py:159: ValueWarning: No frequency information was provided, so inferred frequency MS will be used.\n",
      "  warnings.warn('No frequency information was'\n",
      "C:\\Users\\ACER\\anaconda3\\lib\\site-packages\\statsmodels\\tsa\\base\\tsa_model.py:159: ValueWarning: No frequency information was provided, so inferred frequency MS will be used.\n",
      "  warnings.warn('No frequency information was'\n",
      "C:\\Users\\ACER\\anaconda3\\lib\\site-packages\\statsmodels\\tsa\\base\\tsa_model.py:159: ValueWarning: No frequency information was provided, so inferred frequency MS will be used.\n",
      "  warnings.warn('No frequency information was'\n",
      "C:\\Users\\ACER\\anaconda3\\lib\\site-packages\\statsmodels\\tsa\\base\\tsa_model.py:159: ValueWarning: No frequency information was provided, so inferred frequency MS will be used.\n",
      "  warnings.warn('No frequency information was'\n",
      "C:\\Users\\ACER\\anaconda3\\lib\\site-packages\\statsmodels\\tsa\\base\\tsa_model.py:159: ValueWarning: No frequency information was provided, so inferred frequency MS will be used.\n",
      "  warnings.warn('No frequency information was'\n"
     ]
    },
    {
     "name": "stdout",
     "output_type": "stream",
     "text": [
      "Checking for {'alpha': 0.4, 'beta': 0.2, 'gamma': 0.1}\n",
      "Checking for {'alpha': 0.4, 'beta': 0.2, 'gamma': 0.2}\n",
      "Checking for {'alpha': 0.4, 'beta': 0.2, 'gamma': 0.3}\n",
      "Checking for {'alpha': 0.4, 'beta': 0.2, 'gamma': 0.4}\n",
      "Checking for {'alpha': 0.4, 'beta': 0.2, 'gamma': 0.5}\n",
      "Checking for {'alpha': 0.4, 'beta': 0.2, 'gamma': 0.6}\n",
      "Checking for {'alpha': 0.4, 'beta': 0.3, 'gamma': 0.1}\n",
      "Checking for {'alpha': 0.4, 'beta': 0.3, 'gamma': 0.2}\n",
      "Checking for {'alpha': 0.4, 'beta': 0.3, 'gamma': 0.3}\n"
     ]
    },
    {
     "name": "stderr",
     "output_type": "stream",
     "text": [
      "C:\\Users\\ACER\\anaconda3\\lib\\site-packages\\statsmodels\\tsa\\base\\tsa_model.py:159: ValueWarning: No frequency information was provided, so inferred frequency MS will be used.\n",
      "  warnings.warn('No frequency information was'\n",
      "C:\\Users\\ACER\\anaconda3\\lib\\site-packages\\statsmodels\\tsa\\base\\tsa_model.py:159: ValueWarning: No frequency information was provided, so inferred frequency MS will be used.\n",
      "  warnings.warn('No frequency information was'\n",
      "C:\\Users\\ACER\\anaconda3\\lib\\site-packages\\statsmodels\\tsa\\base\\tsa_model.py:159: ValueWarning: No frequency information was provided, so inferred frequency MS will be used.\n",
      "  warnings.warn('No frequency information was'\n",
      "C:\\Users\\ACER\\anaconda3\\lib\\site-packages\\statsmodels\\tsa\\base\\tsa_model.py:159: ValueWarning: No frequency information was provided, so inferred frequency MS will be used.\n",
      "  warnings.warn('No frequency information was'\n",
      "C:\\Users\\ACER\\anaconda3\\lib\\site-packages\\statsmodels\\tsa\\base\\tsa_model.py:159: ValueWarning: No frequency information was provided, so inferred frequency MS will be used.\n",
      "  warnings.warn('No frequency information was'\n",
      "C:\\Users\\ACER\\anaconda3\\lib\\site-packages\\statsmodels\\tsa\\base\\tsa_model.py:159: ValueWarning: No frequency information was provided, so inferred frequency MS will be used.\n",
      "  warnings.warn('No frequency information was'\n",
      "C:\\Users\\ACER\\anaconda3\\lib\\site-packages\\statsmodels\\tsa\\base\\tsa_model.py:159: ValueWarning: No frequency information was provided, so inferred frequency MS will be used.\n",
      "  warnings.warn('No frequency information was'\n"
     ]
    },
    {
     "name": "stdout",
     "output_type": "stream",
     "text": [
      "Checking for {'alpha': 0.4, 'beta': 0.3, 'gamma': 0.4}\n",
      "Checking for {'alpha': 0.4, 'beta': 0.3, 'gamma': 0.5}\n",
      "Checking for {'alpha': 0.4, 'beta': 0.3, 'gamma': 0.6}\n",
      "Checking for {'alpha': 0.4, 'beta': 0.4, 'gamma': 0.1}\n",
      "Checking for {'alpha': 0.4, 'beta': 0.4, 'gamma': 0.2}\n",
      "Checking for {'alpha': 0.4, 'beta': 0.4, 'gamma': 0.3}\n"
     ]
    },
    {
     "name": "stderr",
     "output_type": "stream",
     "text": [
      "C:\\Users\\ACER\\anaconda3\\lib\\site-packages\\statsmodels\\tsa\\base\\tsa_model.py:159: ValueWarning: No frequency information was provided, so inferred frequency MS will be used.\n",
      "  warnings.warn('No frequency information was'\n",
      "C:\\Users\\ACER\\anaconda3\\lib\\site-packages\\statsmodels\\tsa\\base\\tsa_model.py:159: ValueWarning: No frequency information was provided, so inferred frequency MS will be used.\n",
      "  warnings.warn('No frequency information was'\n",
      "C:\\Users\\ACER\\anaconda3\\lib\\site-packages\\statsmodels\\tsa\\base\\tsa_model.py:159: ValueWarning: No frequency information was provided, so inferred frequency MS will be used.\n",
      "  warnings.warn('No frequency information was'\n",
      "C:\\Users\\ACER\\anaconda3\\lib\\site-packages\\statsmodels\\tsa\\base\\tsa_model.py:159: ValueWarning: No frequency information was provided, so inferred frequency MS will be used.\n",
      "  warnings.warn('No frequency information was'\n",
      "C:\\Users\\ACER\\anaconda3\\lib\\site-packages\\statsmodels\\tsa\\base\\tsa_model.py:159: ValueWarning: No frequency information was provided, so inferred frequency MS will be used.\n",
      "  warnings.warn('No frequency information was'\n"
     ]
    },
    {
     "name": "stdout",
     "output_type": "stream",
     "text": [
      "Checking for {'alpha': 0.4, 'beta': 0.4, 'gamma': 0.4}\n",
      "Checking for {'alpha': 0.4, 'beta': 0.4, 'gamma': 0.5}\n",
      "Checking for {'alpha': 0.4, 'beta': 0.4, 'gamma': 0.6}\n",
      "Checking for {'alpha': 0.4, 'beta': 0.5, 'gamma': 0.1}\n",
      "Checking for {'alpha': 0.4, 'beta': 0.5, 'gamma': 0.2}\n"
     ]
    },
    {
     "name": "stderr",
     "output_type": "stream",
     "text": [
      "C:\\Users\\ACER\\anaconda3\\lib\\site-packages\\statsmodels\\tsa\\base\\tsa_model.py:159: ValueWarning: No frequency information was provided, so inferred frequency MS will be used.\n",
      "  warnings.warn('No frequency information was'\n",
      "C:\\Users\\ACER\\anaconda3\\lib\\site-packages\\scipy\\optimize\\_numdiff.py:557: RuntimeWarning: invalid value encountered in subtract\n",
      "  df = fun(x) - f0\n",
      "C:\\Users\\ACER\\anaconda3\\lib\\site-packages\\statsmodels\\tsa\\base\\tsa_model.py:159: ValueWarning: No frequency information was provided, so inferred frequency MS will be used.\n",
      "  warnings.warn('No frequency information was'\n",
      "C:\\Users\\ACER\\anaconda3\\lib\\site-packages\\statsmodels\\tsa\\base\\tsa_model.py:159: ValueWarning: No frequency information was provided, so inferred frequency MS will be used.\n",
      "  warnings.warn('No frequency information was'\n",
      "C:\\Users\\ACER\\anaconda3\\lib\\site-packages\\statsmodels\\tsa\\base\\tsa_model.py:159: ValueWarning: No frequency information was provided, so inferred frequency MS will be used.\n",
      "  warnings.warn('No frequency information was'\n",
      "C:\\Users\\ACER\\anaconda3\\lib\\site-packages\\statsmodels\\tsa\\base\\tsa_model.py:159: ValueWarning: No frequency information was provided, so inferred frequency MS will be used.\n",
      "  warnings.warn('No frequency information was'\n",
      "C:\\Users\\ACER\\anaconda3\\lib\\site-packages\\statsmodels\\tsa\\base\\tsa_model.py:159: ValueWarning: No frequency information was provided, so inferred frequency MS will be used.\n",
      "  warnings.warn('No frequency information was'\n",
      "C:\\Users\\ACER\\anaconda3\\lib\\site-packages\\statsmodels\\tsa\\base\\tsa_model.py:159: ValueWarning: No frequency information was provided, so inferred frequency MS will be used.\n",
      "  warnings.warn('No frequency information was'\n",
      "C:\\Users\\ACER\\anaconda3\\lib\\site-packages\\statsmodels\\tsa\\base\\tsa_model.py:159: ValueWarning: No frequency information was provided, so inferred frequency MS will be used.\n",
      "  warnings.warn('No frequency information was'\n",
      "C:\\Users\\ACER\\anaconda3\\lib\\site-packages\\statsmodels\\tsa\\base\\tsa_model.py:159: ValueWarning: No frequency information was provided, so inferred frequency MS will be used.\n",
      "  warnings.warn('No frequency information was'\n",
      "C:\\Users\\ACER\\anaconda3\\lib\\site-packages\\statsmodels\\tsa\\base\\tsa_model.py:159: ValueWarning: No frequency information was provided, so inferred frequency MS will be used.\n",
      "  warnings.warn('No frequency information was'\n"
     ]
    },
    {
     "name": "stdout",
     "output_type": "stream",
     "text": [
      "Checking for {'alpha': 0.4, 'beta': 0.5, 'gamma': 0.3}\n",
      "Checking for {'alpha': 0.4, 'beta': 0.5, 'gamma': 0.4}\n",
      "Checking for {'alpha': 0.4, 'beta': 0.5, 'gamma': 0.5}\n",
      "Checking for {'alpha': 0.4, 'beta': 0.5, 'gamma': 0.6}\n",
      "Checking for {'alpha': 0.4, 'beta': 0.6, 'gamma': 0.1}\n",
      "Checking for {'alpha': 0.4, 'beta': 0.6, 'gamma': 0.2}\n",
      "Checking for {'alpha': 0.4, 'beta': 0.6, 'gamma': 0.3}\n",
      "Checking for {'alpha': 0.4, 'beta': 0.6, 'gamma': 0.4}\n",
      "Checking for {'alpha': 0.4, 'beta': 0.6, 'gamma': 0.5}\n",
      "Checking for {'alpha': 0.4, 'beta': 0.6, 'gamma': 0.6}\n",
      "Checking for {'alpha': 0.5, 'beta': 0.1, 'gamma': 0.1}\n"
     ]
    },
    {
     "name": "stderr",
     "output_type": "stream",
     "text": [
      "C:\\Users\\ACER\\anaconda3\\lib\\site-packages\\statsmodels\\tsa\\base\\tsa_model.py:159: ValueWarning: No frequency information was provided, so inferred frequency MS will be used.\n",
      "  warnings.warn('No frequency information was'\n",
      "C:\\Users\\ACER\\anaconda3\\lib\\site-packages\\statsmodels\\tsa\\base\\tsa_model.py:159: ValueWarning: No frequency information was provided, so inferred frequency MS will be used.\n",
      "  warnings.warn('No frequency information was'\n",
      "C:\\Users\\ACER\\anaconda3\\lib\\site-packages\\statsmodels\\tsa\\base\\tsa_model.py:159: ValueWarning: No frequency information was provided, so inferred frequency MS will be used.\n",
      "  warnings.warn('No frequency information was'\n",
      "C:\\Users\\ACER\\anaconda3\\lib\\site-packages\\statsmodels\\tsa\\base\\tsa_model.py:159: ValueWarning: No frequency information was provided, so inferred frequency MS will be used.\n",
      "  warnings.warn('No frequency information was'\n",
      "C:\\Users\\ACER\\anaconda3\\lib\\site-packages\\statsmodels\\tsa\\base\\tsa_model.py:159: ValueWarning: No frequency information was provided, so inferred frequency MS will be used.\n",
      "  warnings.warn('No frequency information was'\n",
      "C:\\Users\\ACER\\anaconda3\\lib\\site-packages\\statsmodels\\tsa\\base\\tsa_model.py:159: ValueWarning: No frequency information was provided, so inferred frequency MS will be used.\n",
      "  warnings.warn('No frequency information was'\n",
      "C:\\Users\\ACER\\anaconda3\\lib\\site-packages\\statsmodels\\tsa\\base\\tsa_model.py:159: ValueWarning: No frequency information was provided, so inferred frequency MS will be used.\n",
      "  warnings.warn('No frequency information was'\n",
      "C:\\Users\\ACER\\anaconda3\\lib\\site-packages\\statsmodels\\tsa\\base\\tsa_model.py:159: ValueWarning: No frequency information was provided, so inferred frequency MS will be used.\n",
      "  warnings.warn('No frequency information was'\n",
      "C:\\Users\\ACER\\anaconda3\\lib\\site-packages\\statsmodels\\tsa\\base\\tsa_model.py:159: ValueWarning: No frequency information was provided, so inferred frequency MS will be used.\n",
      "  warnings.warn('No frequency information was'\n"
     ]
    },
    {
     "name": "stdout",
     "output_type": "stream",
     "text": [
      "Checking for {'alpha': 0.5, 'beta': 0.1, 'gamma': 0.2}\n",
      "Checking for {'alpha': 0.5, 'beta': 0.1, 'gamma': 0.3}\n",
      "Checking for {'alpha': 0.5, 'beta': 0.1, 'gamma': 0.4}\n",
      "Checking for {'alpha': 0.5, 'beta': 0.1, 'gamma': 0.5}\n",
      "Checking for {'alpha': 0.5, 'beta': 0.1, 'gamma': 0.6}\n",
      "Checking for {'alpha': 0.5, 'beta': 0.2, 'gamma': 0.1}\n",
      "Checking for {'alpha': 0.5, 'beta': 0.2, 'gamma': 0.2}\n",
      "Checking for {'alpha': 0.5, 'beta': 0.2, 'gamma': 0.3}\n",
      "Checking for {'alpha': 0.5, 'beta': 0.2, 'gamma': 0.4}\n"
     ]
    },
    {
     "name": "stderr",
     "output_type": "stream",
     "text": [
      "C:\\Users\\ACER\\anaconda3\\lib\\site-packages\\statsmodels\\tsa\\base\\tsa_model.py:159: ValueWarning: No frequency information was provided, so inferred frequency MS will be used.\n",
      "  warnings.warn('No frequency information was'\n",
      "C:\\Users\\ACER\\anaconda3\\lib\\site-packages\\statsmodels\\tsa\\base\\tsa_model.py:159: ValueWarning: No frequency information was provided, so inferred frequency MS will be used.\n",
      "  warnings.warn('No frequency information was'\n",
      "C:\\Users\\ACER\\anaconda3\\lib\\site-packages\\statsmodels\\tsa\\base\\tsa_model.py:159: ValueWarning: No frequency information was provided, so inferred frequency MS will be used.\n",
      "  warnings.warn('No frequency information was'\n",
      "C:\\Users\\ACER\\anaconda3\\lib\\site-packages\\statsmodels\\tsa\\base\\tsa_model.py:159: ValueWarning: No frequency information was provided, so inferred frequency MS will be used.\n",
      "  warnings.warn('No frequency information was'\n",
      "C:\\Users\\ACER\\anaconda3\\lib\\site-packages\\statsmodels\\tsa\\base\\tsa_model.py:159: ValueWarning: No frequency information was provided, so inferred frequency MS will be used.\n",
      "  warnings.warn('No frequency information was'\n",
      "C:\\Users\\ACER\\anaconda3\\lib\\site-packages\\statsmodels\\tsa\\base\\tsa_model.py:159: ValueWarning: No frequency information was provided, so inferred frequency MS will be used.\n",
      "  warnings.warn('No frequency information was'\n",
      "C:\\Users\\ACER\\anaconda3\\lib\\site-packages\\statsmodels\\tsa\\base\\tsa_model.py:159: ValueWarning: No frequency information was provided, so inferred frequency MS will be used.\n",
      "  warnings.warn('No frequency information was'\n",
      "C:\\Users\\ACER\\anaconda3\\lib\\site-packages\\statsmodels\\tsa\\base\\tsa_model.py:159: ValueWarning: No frequency information was provided, so inferred frequency MS will be used.\n",
      "  warnings.warn('No frequency information was'\n"
     ]
    },
    {
     "name": "stdout",
     "output_type": "stream",
     "text": [
      "Checking for {'alpha': 0.5, 'beta': 0.2, 'gamma': 0.5}\n",
      "Checking for {'alpha': 0.5, 'beta': 0.2, 'gamma': 0.6}\n",
      "Checking for {'alpha': 0.5, 'beta': 0.3, 'gamma': 0.1}\n",
      "Checking for {'alpha': 0.5, 'beta': 0.3, 'gamma': 0.2}\n",
      "Checking for {'alpha': 0.5, 'beta': 0.3, 'gamma': 0.3}\n",
      "Checking for {'alpha': 0.5, 'beta': 0.3, 'gamma': 0.4}\n",
      "Checking for {'alpha': 0.5, 'beta': 0.3, 'gamma': 0.5}\n",
      "Checking for {'alpha': 0.5, 'beta': 0.3, 'gamma': 0.6}\n",
      "Checking for {'alpha': 0.5, 'beta': 0.4, 'gamma': 0.1}\n",
      "Checking for {'alpha': 0.5, 'beta': 0.4, 'gamma': 0.2}\n"
     ]
    },
    {
     "name": "stderr",
     "output_type": "stream",
     "text": [
      "C:\\Users\\ACER\\anaconda3\\lib\\site-packages\\statsmodels\\tsa\\base\\tsa_model.py:159: ValueWarning: No frequency information was provided, so inferred frequency MS will be used.\n",
      "  warnings.warn('No frequency information was'\n",
      "C:\\Users\\ACER\\anaconda3\\lib\\site-packages\\statsmodels\\tsa\\base\\tsa_model.py:159: ValueWarning: No frequency information was provided, so inferred frequency MS will be used.\n",
      "  warnings.warn('No frequency information was'\n",
      "C:\\Users\\ACER\\anaconda3\\lib\\site-packages\\statsmodels\\tsa\\base\\tsa_model.py:159: ValueWarning: No frequency information was provided, so inferred frequency MS will be used.\n",
      "  warnings.warn('No frequency information was'\n",
      "C:\\Users\\ACER\\anaconda3\\lib\\site-packages\\statsmodels\\tsa\\base\\tsa_model.py:159: ValueWarning: No frequency information was provided, so inferred frequency MS will be used.\n",
      "  warnings.warn('No frequency information was'\n",
      "C:\\Users\\ACER\\anaconda3\\lib\\site-packages\\statsmodels\\tsa\\base\\tsa_model.py:159: ValueWarning: No frequency information was provided, so inferred frequency MS will be used.\n",
      "  warnings.warn('No frequency information was'\n",
      "C:\\Users\\ACER\\anaconda3\\lib\\site-packages\\statsmodels\\tsa\\base\\tsa_model.py:159: ValueWarning: No frequency information was provided, so inferred frequency MS will be used.\n",
      "  warnings.warn('No frequency information was'\n",
      "C:\\Users\\ACER\\anaconda3\\lib\\site-packages\\statsmodels\\tsa\\base\\tsa_model.py:159: ValueWarning: No frequency information was provided, so inferred frequency MS will be used.\n",
      "  warnings.warn('No frequency information was'\n",
      "C:\\Users\\ACER\\anaconda3\\lib\\site-packages\\statsmodels\\tsa\\base\\tsa_model.py:159: ValueWarning: No frequency information was provided, so inferred frequency MS will be used.\n",
      "  warnings.warn('No frequency information was'\n",
      "C:\\Users\\ACER\\anaconda3\\lib\\site-packages\\statsmodels\\tsa\\base\\tsa_model.py:159: ValueWarning: No frequency information was provided, so inferred frequency MS will be used.\n",
      "  warnings.warn('No frequency information was'\n",
      "C:\\Users\\ACER\\anaconda3\\lib\\site-packages\\statsmodels\\tsa\\base\\tsa_model.py:159: ValueWarning: No frequency information was provided, so inferred frequency MS will be used.\n",
      "  warnings.warn('No frequency information was'\n"
     ]
    },
    {
     "name": "stdout",
     "output_type": "stream",
     "text": [
      "Checking for {'alpha': 0.5, 'beta': 0.4, 'gamma': 0.3}\n",
      "Checking for {'alpha': 0.5, 'beta': 0.4, 'gamma': 0.4}\n",
      "Checking for {'alpha': 0.5, 'beta': 0.4, 'gamma': 0.5}\n",
      "Checking for {'alpha': 0.5, 'beta': 0.4, 'gamma': 0.6}\n",
      "Checking for {'alpha': 0.5, 'beta': 0.5, 'gamma': 0.1}\n",
      "Checking for {'alpha': 0.5, 'beta': 0.5, 'gamma': 0.2}\n",
      "Checking for {'alpha': 0.5, 'beta': 0.5, 'gamma': 0.3}\n",
      "Checking for {'alpha': 0.5, 'beta': 0.5, 'gamma': 0.4}\n"
     ]
    },
    {
     "name": "stderr",
     "output_type": "stream",
     "text": [
      "C:\\Users\\ACER\\anaconda3\\lib\\site-packages\\statsmodels\\tsa\\base\\tsa_model.py:159: ValueWarning: No frequency information was provided, so inferred frequency MS will be used.\n",
      "  warnings.warn('No frequency information was'\n",
      "C:\\Users\\ACER\\anaconda3\\lib\\site-packages\\statsmodels\\tsa\\base\\tsa_model.py:159: ValueWarning: No frequency information was provided, so inferred frequency MS will be used.\n",
      "  warnings.warn('No frequency information was'\n",
      "C:\\Users\\ACER\\anaconda3\\lib\\site-packages\\statsmodels\\tsa\\base\\tsa_model.py:159: ValueWarning: No frequency information was provided, so inferred frequency MS will be used.\n",
      "  warnings.warn('No frequency information was'\n",
      "C:\\Users\\ACER\\anaconda3\\lib\\site-packages\\statsmodels\\tsa\\base\\tsa_model.py:159: ValueWarning: No frequency information was provided, so inferred frequency MS will be used.\n",
      "  warnings.warn('No frequency information was'\n",
      "C:\\Users\\ACER\\anaconda3\\lib\\site-packages\\statsmodels\\tsa\\holtwinters.py:743: ConvergenceWarning: Optimization failed to converge. Check mle_retvals.\n",
      "  warn(\"Optimization failed to converge. Check mle_retvals.\",\n",
      "C:\\Users\\ACER\\anaconda3\\lib\\site-packages\\statsmodels\\tsa\\base\\tsa_model.py:159: ValueWarning: No frequency information was provided, so inferred frequency MS will be used.\n",
      "  warnings.warn('No frequency information was'\n",
      "C:\\Users\\ACER\\anaconda3\\lib\\site-packages\\statsmodels\\tsa\\base\\tsa_model.py:159: ValueWarning: No frequency information was provided, so inferred frequency MS will be used.\n",
      "  warnings.warn('No frequency information was'\n",
      "C:\\Users\\ACER\\anaconda3\\lib\\site-packages\\statsmodels\\tsa\\base\\tsa_model.py:159: ValueWarning: No frequency information was provided, so inferred frequency MS will be used.\n",
      "  warnings.warn('No frequency information was'\n",
      "C:\\Users\\ACER\\anaconda3\\lib\\site-packages\\statsmodels\\tsa\\base\\tsa_model.py:159: ValueWarning: No frequency information was provided, so inferred frequency MS will be used.\n",
      "  warnings.warn('No frequency information was'\n",
      "C:\\Users\\ACER\\anaconda3\\lib\\site-packages\\statsmodels\\tsa\\base\\tsa_model.py:159: ValueWarning: No frequency information was provided, so inferred frequency MS will be used.\n",
      "  warnings.warn('No frequency information was'\n",
      "C:\\Users\\ACER\\anaconda3\\lib\\site-packages\\statsmodels\\tsa\\base\\tsa_model.py:159: ValueWarning: No frequency information was provided, so inferred frequency MS will be used.\n",
      "  warnings.warn('No frequency information was'\n",
      "C:\\Users\\ACER\\anaconda3\\lib\\site-packages\\statsmodels\\tsa\\base\\tsa_model.py:159: ValueWarning: No frequency information was provided, so inferred frequency MS will be used.\n",
      "  warnings.warn('No frequency information was'\n"
     ]
    },
    {
     "name": "stdout",
     "output_type": "stream",
     "text": [
      "Checking for {'alpha': 0.5, 'beta': 0.5, 'gamma': 0.5}\n",
      "Checking for {'alpha': 0.5, 'beta': 0.5, 'gamma': 0.6}\n",
      "Checking for {'alpha': 0.5, 'beta': 0.6, 'gamma': 0.1}\n",
      "Checking for {'alpha': 0.5, 'beta': 0.6, 'gamma': 0.2}\n",
      "Checking for {'alpha': 0.5, 'beta': 0.6, 'gamma': 0.3}\n",
      "Checking for {'alpha': 0.5, 'beta': 0.6, 'gamma': 0.4}\n",
      "Checking for {'alpha': 0.5, 'beta': 0.6, 'gamma': 0.5}\n",
      "Checking for {'alpha': 0.5, 'beta': 0.6, 'gamma': 0.6}\n",
      "Checking for {'alpha': 0.6, 'beta': 0.1, 'gamma': 0.1}\n"
     ]
    },
    {
     "name": "stderr",
     "output_type": "stream",
     "text": [
      "C:\\Users\\ACER\\anaconda3\\lib\\site-packages\\statsmodels\\tsa\\base\\tsa_model.py:159: ValueWarning: No frequency information was provided, so inferred frequency MS will be used.\n",
      "  warnings.warn('No frequency information was'\n",
      "C:\\Users\\ACER\\anaconda3\\lib\\site-packages\\statsmodels\\tsa\\base\\tsa_model.py:159: ValueWarning: No frequency information was provided, so inferred frequency MS will be used.\n",
      "  warnings.warn('No frequency information was'\n",
      "C:\\Users\\ACER\\anaconda3\\lib\\site-packages\\statsmodels\\tsa\\base\\tsa_model.py:159: ValueWarning: No frequency information was provided, so inferred frequency MS will be used.\n",
      "  warnings.warn('No frequency information was'\n",
      "C:\\Users\\ACER\\anaconda3\\lib\\site-packages\\statsmodels\\tsa\\base\\tsa_model.py:159: ValueWarning: No frequency information was provided, so inferred frequency MS will be used.\n",
      "  warnings.warn('No frequency information was'\n",
      "C:\\Users\\ACER\\anaconda3\\lib\\site-packages\\statsmodels\\tsa\\base\\tsa_model.py:159: ValueWarning: No frequency information was provided, so inferred frequency MS will be used.\n",
      "  warnings.warn('No frequency information was'\n",
      "C:\\Users\\ACER\\anaconda3\\lib\\site-packages\\statsmodels\\tsa\\base\\tsa_model.py:159: ValueWarning: No frequency information was provided, so inferred frequency MS will be used.\n",
      "  warnings.warn('No frequency information was'\n",
      "C:\\Users\\ACER\\anaconda3\\lib\\site-packages\\statsmodels\\tsa\\base\\tsa_model.py:159: ValueWarning: No frequency information was provided, so inferred frequency MS will be used.\n",
      "  warnings.warn('No frequency information was'\n",
      "C:\\Users\\ACER\\anaconda3\\lib\\site-packages\\statsmodels\\tsa\\base\\tsa_model.py:159: ValueWarning: No frequency information was provided, so inferred frequency MS will be used.\n",
      "  warnings.warn('No frequency information was'\n"
     ]
    },
    {
     "name": "stdout",
     "output_type": "stream",
     "text": [
      "Checking for {'alpha': 0.6, 'beta': 0.1, 'gamma': 0.2}\n",
      "Checking for {'alpha': 0.6, 'beta': 0.1, 'gamma': 0.3}\n",
      "Checking for {'alpha': 0.6, 'beta': 0.1, 'gamma': 0.4}\n",
      "Checking for {'alpha': 0.6, 'beta': 0.1, 'gamma': 0.5}\n",
      "Checking for {'alpha': 0.6, 'beta': 0.1, 'gamma': 0.6}\n",
      "Checking for {'alpha': 0.6, 'beta': 0.2, 'gamma': 0.1}\n",
      "Checking for {'alpha': 0.6, 'beta': 0.2, 'gamma': 0.2}\n",
      "Checking for {'alpha': 0.6, 'beta': 0.2, 'gamma': 0.3}\n",
      "Checking for {'alpha': 0.6, 'beta': 0.2, 'gamma': 0.4}\n",
      "Checking for {'alpha': 0.6, 'beta': 0.2, 'gamma': 0.5}\n",
      "Checking for {'alpha': 0.6, 'beta': 0.2, 'gamma': 0.6}\n",
      "Checking for {'alpha': 0.6, 'beta': 0.3, 'gamma': 0.1}\n",
      "Checking for {'alpha': 0.6, 'beta': 0.3, 'gamma': 0.2}\n"
     ]
    },
    {
     "name": "stderr",
     "output_type": "stream",
     "text": [
      "C:\\Users\\ACER\\anaconda3\\lib\\site-packages\\statsmodels\\tsa\\base\\tsa_model.py:159: ValueWarning: No frequency information was provided, so inferred frequency MS will be used.\n",
      "  warnings.warn('No frequency information was'\n",
      "C:\\Users\\ACER\\anaconda3\\lib\\site-packages\\statsmodels\\tsa\\base\\tsa_model.py:159: ValueWarning: No frequency information was provided, so inferred frequency MS will be used.\n",
      "  warnings.warn('No frequency information was'\n",
      "C:\\Users\\ACER\\anaconda3\\lib\\site-packages\\statsmodels\\tsa\\base\\tsa_model.py:159: ValueWarning: No frequency information was provided, so inferred frequency MS will be used.\n",
      "  warnings.warn('No frequency information was'\n",
      "C:\\Users\\ACER\\anaconda3\\lib\\site-packages\\statsmodels\\tsa\\base\\tsa_model.py:159: ValueWarning: No frequency information was provided, so inferred frequency MS will be used.\n",
      "  warnings.warn('No frequency information was'\n",
      "C:\\Users\\ACER\\anaconda3\\lib\\site-packages\\statsmodels\\tsa\\base\\tsa_model.py:159: ValueWarning: No frequency information was provided, so inferred frequency MS will be used.\n",
      "  warnings.warn('No frequency information was'\n",
      "C:\\Users\\ACER\\anaconda3\\lib\\site-packages\\statsmodels\\tsa\\base\\tsa_model.py:159: ValueWarning: No frequency information was provided, so inferred frequency MS will be used.\n",
      "  warnings.warn('No frequency information was'\n",
      "C:\\Users\\ACER\\anaconda3\\lib\\site-packages\\statsmodels\\tsa\\base\\tsa_model.py:159: ValueWarning: No frequency information was provided, so inferred frequency MS will be used.\n",
      "  warnings.warn('No frequency information was'\n"
     ]
    },
    {
     "name": "stdout",
     "output_type": "stream",
     "text": [
      "Checking for {'alpha': 0.6, 'beta': 0.3, 'gamma': 0.3}\n",
      "Checking for {'alpha': 0.6, 'beta': 0.3, 'gamma': 0.4}\n",
      "Checking for {'alpha': 0.6, 'beta': 0.3, 'gamma': 0.5}\n",
      "Checking for {'alpha': 0.6, 'beta': 0.3, 'gamma': 0.6}\n",
      "Checking for {'alpha': 0.6, 'beta': 0.4, 'gamma': 0.1}\n"
     ]
    },
    {
     "name": "stderr",
     "output_type": "stream",
     "text": [
      "C:\\Users\\ACER\\anaconda3\\lib\\site-packages\\statsmodels\\tsa\\base\\tsa_model.py:159: ValueWarning: No frequency information was provided, so inferred frequency MS will be used.\n",
      "  warnings.warn('No frequency information was'\n",
      "C:\\Users\\ACER\\anaconda3\\lib\\site-packages\\statsmodels\\tsa\\base\\tsa_model.py:159: ValueWarning: No frequency information was provided, so inferred frequency MS will be used.\n",
      "  warnings.warn('No frequency information was'\n",
      "C:\\Users\\ACER\\anaconda3\\lib\\site-packages\\statsmodels\\tsa\\base\\tsa_model.py:159: ValueWarning: No frequency information was provided, so inferred frequency MS will be used.\n",
      "  warnings.warn('No frequency information was'\n",
      "C:\\Users\\ACER\\anaconda3\\lib\\site-packages\\statsmodels\\tsa\\base\\tsa_model.py:159: ValueWarning: No frequency information was provided, so inferred frequency MS will be used.\n",
      "  warnings.warn('No frequency information was'\n",
      "C:\\Users\\ACER\\anaconda3\\lib\\site-packages\\statsmodels\\tsa\\base\\tsa_model.py:159: ValueWarning: No frequency information was provided, so inferred frequency MS will be used.\n",
      "  warnings.warn('No frequency information was'\n"
     ]
    },
    {
     "name": "stdout",
     "output_type": "stream",
     "text": [
      "Checking for {'alpha': 0.6, 'beta': 0.4, 'gamma': 0.2}\n",
      "Checking for {'alpha': 0.6, 'beta': 0.4, 'gamma': 0.3}\n",
      "Checking for {'alpha': 0.6, 'beta': 0.4, 'gamma': 0.4}\n",
      "Checking for {'alpha': 0.6, 'beta': 0.4, 'gamma': 0.5}\n",
      "Checking for {'alpha': 0.6, 'beta': 0.4, 'gamma': 0.6}\n",
      "Checking for {'alpha': 0.6, 'beta': 0.5, 'gamma': 0.1}\n",
      "Checking for {'alpha': 0.6, 'beta': 0.5, 'gamma': 0.2}\n"
     ]
    },
    {
     "name": "stderr",
     "output_type": "stream",
     "text": [
      "C:\\Users\\ACER\\anaconda3\\lib\\site-packages\\statsmodels\\tsa\\base\\tsa_model.py:159: ValueWarning: No frequency information was provided, so inferred frequency MS will be used.\n",
      "  warnings.warn('No frequency information was'\n",
      "C:\\Users\\ACER\\anaconda3\\lib\\site-packages\\statsmodels\\tsa\\base\\tsa_model.py:159: ValueWarning: No frequency information was provided, so inferred frequency MS will be used.\n",
      "  warnings.warn('No frequency information was'\n",
      "C:\\Users\\ACER\\anaconda3\\lib\\site-packages\\statsmodels\\tsa\\base\\tsa_model.py:159: ValueWarning: No frequency information was provided, so inferred frequency MS will be used.\n",
      "  warnings.warn('No frequency information was'\n",
      "C:\\Users\\ACER\\anaconda3\\lib\\site-packages\\statsmodels\\tsa\\base\\tsa_model.py:159: ValueWarning: No frequency information was provided, so inferred frequency MS will be used.\n",
      "  warnings.warn('No frequency information was'\n",
      "C:\\Users\\ACER\\anaconda3\\lib\\site-packages\\statsmodels\\tsa\\base\\tsa_model.py:159: ValueWarning: No frequency information was provided, so inferred frequency MS will be used.\n",
      "  warnings.warn('No frequency information was'\n",
      "C:\\Users\\ACER\\anaconda3\\lib\\site-packages\\statsmodels\\tsa\\base\\tsa_model.py:159: ValueWarning: No frequency information was provided, so inferred frequency MS will be used.\n",
      "  warnings.warn('No frequency information was'\n",
      "C:\\Users\\ACER\\anaconda3\\lib\\site-packages\\statsmodels\\tsa\\base\\tsa_model.py:159: ValueWarning: No frequency information was provided, so inferred frequency MS will be used.\n",
      "  warnings.warn('No frequency information was'\n",
      "C:\\Users\\ACER\\anaconda3\\lib\\site-packages\\statsmodels\\tsa\\base\\tsa_model.py:159: ValueWarning: No frequency information was provided, so inferred frequency MS will be used.\n",
      "  warnings.warn('No frequency information was'\n",
      "C:\\Users\\ACER\\anaconda3\\lib\\site-packages\\statsmodels\\tsa\\base\\tsa_model.py:159: ValueWarning: No frequency information was provided, so inferred frequency MS will be used.\n",
      "  warnings.warn('No frequency information was'\n"
     ]
    },
    {
     "name": "stdout",
     "output_type": "stream",
     "text": [
      "Checking for {'alpha': 0.6, 'beta': 0.5, 'gamma': 0.3}\n",
      "Checking for {'alpha': 0.6, 'beta': 0.5, 'gamma': 0.4}\n",
      "Checking for {'alpha': 0.6, 'beta': 0.5, 'gamma': 0.5}\n",
      "Checking for {'alpha': 0.6, 'beta': 0.5, 'gamma': 0.6}\n",
      "Checking for {'alpha': 0.6, 'beta': 0.6, 'gamma': 0.1}\n",
      "Checking for {'alpha': 0.6, 'beta': 0.6, 'gamma': 0.2}\n",
      "Checking for {'alpha': 0.6, 'beta': 0.6, 'gamma': 0.3}\n",
      "Checking for {'alpha': 0.6, 'beta': 0.6, 'gamma': 0.4}\n",
      "Checking for {'alpha': 0.6, 'beta': 0.6, 'gamma': 0.5}\n"
     ]
    },
    {
     "name": "stderr",
     "output_type": "stream",
     "text": [
      "C:\\Users\\ACER\\anaconda3\\lib\\site-packages\\statsmodels\\tsa\\base\\tsa_model.py:159: ValueWarning: No frequency information was provided, so inferred frequency MS will be used.\n",
      "  warnings.warn('No frequency information was'\n",
      "C:\\Users\\ACER\\anaconda3\\lib\\site-packages\\statsmodels\\tsa\\base\\tsa_model.py:159: ValueWarning: No frequency information was provided, so inferred frequency MS will be used.\n",
      "  warnings.warn('No frequency information was'\n",
      "C:\\Users\\ACER\\anaconda3\\lib\\site-packages\\statsmodels\\tsa\\base\\tsa_model.py:159: ValueWarning: No frequency information was provided, so inferred frequency MS will be used.\n",
      "  warnings.warn('No frequency information was'\n",
      "C:\\Users\\ACER\\anaconda3\\lib\\site-packages\\statsmodels\\tsa\\base\\tsa_model.py:159: ValueWarning: No frequency information was provided, so inferred frequency MS will be used.\n",
      "  warnings.warn('No frequency information was'\n",
      "C:\\Users\\ACER\\anaconda3\\lib\\site-packages\\statsmodels\\tsa\\base\\tsa_model.py:159: ValueWarning: No frequency information was provided, so inferred frequency MS will be used.\n",
      "  warnings.warn('No frequency information was'\n",
      "C:\\Users\\ACER\\anaconda3\\lib\\site-packages\\statsmodels\\tsa\\base\\tsa_model.py:159: ValueWarning: No frequency information was provided, so inferred frequency MS will be used.\n",
      "  warnings.warn('No frequency information was'\n",
      "C:\\Users\\ACER\\anaconda3\\lib\\site-packages\\statsmodels\\tsa\\base\\tsa_model.py:159: ValueWarning: No frequency information was provided, so inferred frequency MS will be used.\n",
      "  warnings.warn('No frequency information was'\n"
     ]
    },
    {
     "name": "stdout",
     "output_type": "stream",
     "text": [
      "Checking for {'alpha': 0.6, 'beta': 0.6, 'gamma': 0.6}\n",
      "Checking for {'alpha': 0.7, 'beta': 0.1, 'gamma': 0.1}\n",
      "Checking for {'alpha': 0.7, 'beta': 0.1, 'gamma': 0.2}\n",
      "Checking for {'alpha': 0.7, 'beta': 0.1, 'gamma': 0.3}\n",
      "Checking for {'alpha': 0.7, 'beta': 0.1, 'gamma': 0.4}\n",
      "Checking for {'alpha': 0.7, 'beta': 0.1, 'gamma': 0.5}\n",
      "Checking for {'alpha': 0.7, 'beta': 0.1, 'gamma': 0.6}\n",
      "Checking for {'alpha': 0.7, 'beta': 0.2, 'gamma': 0.1}\n"
     ]
    },
    {
     "name": "stderr",
     "output_type": "stream",
     "text": [
      "C:\\Users\\ACER\\anaconda3\\lib\\site-packages\\statsmodels\\tsa\\base\\tsa_model.py:159: ValueWarning: No frequency information was provided, so inferred frequency MS will be used.\n",
      "  warnings.warn('No frequency information was'\n",
      "C:\\Users\\ACER\\anaconda3\\lib\\site-packages\\statsmodels\\tsa\\base\\tsa_model.py:159: ValueWarning: No frequency information was provided, so inferred frequency MS will be used.\n",
      "  warnings.warn('No frequency information was'\n",
      "C:\\Users\\ACER\\anaconda3\\lib\\site-packages\\statsmodels\\tsa\\base\\tsa_model.py:159: ValueWarning: No frequency information was provided, so inferred frequency MS will be used.\n",
      "  warnings.warn('No frequency information was'\n",
      "C:\\Users\\ACER\\anaconda3\\lib\\site-packages\\statsmodels\\tsa\\base\\tsa_model.py:159: ValueWarning: No frequency information was provided, so inferred frequency MS will be used.\n",
      "  warnings.warn('No frequency information was'\n",
      "C:\\Users\\ACER\\anaconda3\\lib\\site-packages\\statsmodels\\tsa\\base\\tsa_model.py:159: ValueWarning: No frequency information was provided, so inferred frequency MS will be used.\n",
      "  warnings.warn('No frequency information was'\n",
      "C:\\Users\\ACER\\anaconda3\\lib\\site-packages\\statsmodels\\tsa\\base\\tsa_model.py:159: ValueWarning: No frequency information was provided, so inferred frequency MS will be used.\n",
      "  warnings.warn('No frequency information was'\n",
      "C:\\Users\\ACER\\anaconda3\\lib\\site-packages\\statsmodels\\tsa\\base\\tsa_model.py:159: ValueWarning: No frequency information was provided, so inferred frequency MS will be used.\n",
      "  warnings.warn('No frequency information was'\n",
      "C:\\Users\\ACER\\anaconda3\\lib\\site-packages\\statsmodels\\tsa\\base\\tsa_model.py:159: ValueWarning: No frequency information was provided, so inferred frequency MS will be used.\n",
      "  warnings.warn('No frequency information was'\n",
      "C:\\Users\\ACER\\anaconda3\\lib\\site-packages\\statsmodels\\tsa\\base\\tsa_model.py:159: ValueWarning: No frequency information was provided, so inferred frequency MS will be used.\n",
      "  warnings.warn('No frequency information was'\n",
      "C:\\Users\\ACER\\anaconda3\\lib\\site-packages\\statsmodels\\tsa\\base\\tsa_model.py:159: ValueWarning: No frequency information was provided, so inferred frequency MS will be used.\n",
      "  warnings.warn('No frequency information was'\n",
      "C:\\Users\\ACER\\anaconda3\\lib\\site-packages\\statsmodels\\tsa\\base\\tsa_model.py:159: ValueWarning: No frequency information was provided, so inferred frequency MS will be used.\n",
      "  warnings.warn('No frequency information was'\n",
      "C:\\Users\\ACER\\anaconda3\\lib\\site-packages\\statsmodels\\tsa\\base\\tsa_model.py:159: ValueWarning: No frequency information was provided, so inferred frequency MS will be used.\n",
      "  warnings.warn('No frequency information was'\n"
     ]
    },
    {
     "name": "stdout",
     "output_type": "stream",
     "text": [
      "Checking for {'alpha': 0.7, 'beta': 0.2, 'gamma': 0.2}\n",
      "Checking for {'alpha': 0.7, 'beta': 0.2, 'gamma': 0.3}\n",
      "Checking for {'alpha': 0.7, 'beta': 0.2, 'gamma': 0.4}\n",
      "Checking for {'alpha': 0.7, 'beta': 0.2, 'gamma': 0.5}\n",
      "Checking for {'alpha': 0.7, 'beta': 0.2, 'gamma': 0.6}\n",
      "Checking for {'alpha': 0.7, 'beta': 0.3, 'gamma': 0.1}\n",
      "Checking for {'alpha': 0.7, 'beta': 0.3, 'gamma': 0.2}\n",
      "Checking for {'alpha': 0.7, 'beta': 0.3, 'gamma': 0.3}\n"
     ]
    },
    {
     "name": "stderr",
     "output_type": "stream",
     "text": [
      "C:\\Users\\ACER\\anaconda3\\lib\\site-packages\\statsmodels\\tsa\\base\\tsa_model.py:159: ValueWarning: No frequency information was provided, so inferred frequency MS will be used.\n",
      "  warnings.warn('No frequency information was'\n",
      "C:\\Users\\ACER\\anaconda3\\lib\\site-packages\\statsmodels\\tsa\\base\\tsa_model.py:159: ValueWarning: No frequency information was provided, so inferred frequency MS will be used.\n",
      "  warnings.warn('No frequency information was'\n",
      "C:\\Users\\ACER\\anaconda3\\lib\\site-packages\\statsmodels\\tsa\\base\\tsa_model.py:159: ValueWarning: No frequency information was provided, so inferred frequency MS will be used.\n",
      "  warnings.warn('No frequency information was'\n",
      "C:\\Users\\ACER\\anaconda3\\lib\\site-packages\\statsmodels\\tsa\\base\\tsa_model.py:159: ValueWarning: No frequency information was provided, so inferred frequency MS will be used.\n",
      "  warnings.warn('No frequency information was'\n"
     ]
    },
    {
     "name": "stdout",
     "output_type": "stream",
     "text": [
      "Checking for {'alpha': 0.7, 'beta': 0.3, 'gamma': 0.4}\n",
      "Checking for {'alpha': 0.7, 'beta': 0.3, 'gamma': 0.5}\n",
      "Checking for {'alpha': 0.7, 'beta': 0.3, 'gamma': 0.6}\n",
      "Checking for {'alpha': 0.7, 'beta': 0.4, 'gamma': 0.1}\n",
      "Checking for {'alpha': 0.7, 'beta': 0.4, 'gamma': 0.2}\n",
      "Checking for {'alpha': 0.7, 'beta': 0.4, 'gamma': 0.3}\n"
     ]
    },
    {
     "name": "stderr",
     "output_type": "stream",
     "text": [
      "C:\\Users\\ACER\\anaconda3\\lib\\site-packages\\statsmodels\\tsa\\base\\tsa_model.py:159: ValueWarning: No frequency information was provided, so inferred frequency MS will be used.\n",
      "  warnings.warn('No frequency information was'\n",
      "C:\\Users\\ACER\\anaconda3\\lib\\site-packages\\statsmodels\\tsa\\base\\tsa_model.py:159: ValueWarning: No frequency information was provided, so inferred frequency MS will be used.\n",
      "  warnings.warn('No frequency information was'\n",
      "C:\\Users\\ACER\\anaconda3\\lib\\site-packages\\statsmodels\\tsa\\base\\tsa_model.py:159: ValueWarning: No frequency information was provided, so inferred frequency MS will be used.\n",
      "  warnings.warn('No frequency information was'\n",
      "C:\\Users\\ACER\\anaconda3\\lib\\site-packages\\statsmodels\\tsa\\base\\tsa_model.py:159: ValueWarning: No frequency information was provided, so inferred frequency MS will be used.\n",
      "  warnings.warn('No frequency information was'\n",
      "C:\\Users\\ACER\\anaconda3\\lib\\site-packages\\statsmodels\\tsa\\base\\tsa_model.py:159: ValueWarning: No frequency information was provided, so inferred frequency MS will be used.\n",
      "  warnings.warn('No frequency information was'\n",
      "C:\\Users\\ACER\\anaconda3\\lib\\site-packages\\statsmodels\\tsa\\base\\tsa_model.py:159: ValueWarning: No frequency information was provided, so inferred frequency MS will be used.\n",
      "  warnings.warn('No frequency information was'\n"
     ]
    },
    {
     "name": "stdout",
     "output_type": "stream",
     "text": [
      "Checking for {'alpha': 0.7, 'beta': 0.4, 'gamma': 0.4}\n",
      "Checking for {'alpha': 0.7, 'beta': 0.4, 'gamma': 0.5}\n",
      "Checking for {'alpha': 0.7, 'beta': 0.4, 'gamma': 0.6}\n",
      "Checking for {'alpha': 0.7, 'beta': 0.5, 'gamma': 0.1}\n",
      "Checking for {'alpha': 0.7, 'beta': 0.5, 'gamma': 0.2}\n"
     ]
    },
    {
     "name": "stderr",
     "output_type": "stream",
     "text": [
      "C:\\Users\\ACER\\anaconda3\\lib\\site-packages\\statsmodels\\tsa\\base\\tsa_model.py:159: ValueWarning: No frequency information was provided, so inferred frequency MS will be used.\n",
      "  warnings.warn('No frequency information was'\n",
      "C:\\Users\\ACER\\anaconda3\\lib\\site-packages\\statsmodels\\tsa\\base\\tsa_model.py:159: ValueWarning: No frequency information was provided, so inferred frequency MS will be used.\n",
      "  warnings.warn('No frequency information was'\n",
      "C:\\Users\\ACER\\anaconda3\\lib\\site-packages\\statsmodels\\tsa\\base\\tsa_model.py:159: ValueWarning: No frequency information was provided, so inferred frequency MS will be used.\n",
      "  warnings.warn('No frequency information was'\n",
      "C:\\Users\\ACER\\anaconda3\\lib\\site-packages\\statsmodels\\tsa\\base\\tsa_model.py:159: ValueWarning: No frequency information was provided, so inferred frequency MS will be used.\n",
      "  warnings.warn('No frequency information was'\n",
      "C:\\Users\\ACER\\anaconda3\\lib\\site-packages\\statsmodels\\tsa\\base\\tsa_model.py:159: ValueWarning: No frequency information was provided, so inferred frequency MS will be used.\n",
      "  warnings.warn('No frequency information was'\n"
     ]
    },
    {
     "name": "stdout",
     "output_type": "stream",
     "text": [
      "Checking for {'alpha': 0.7, 'beta': 0.5, 'gamma': 0.3}\n",
      "Checking for {'alpha': 0.7, 'beta': 0.5, 'gamma': 0.4}\n",
      "Checking for {'alpha': 0.7, 'beta': 0.5, 'gamma': 0.5}\n",
      "Checking for {'alpha': 0.7, 'beta': 0.5, 'gamma': 0.6}\n",
      "Checking for {'alpha': 0.7, 'beta': 0.6, 'gamma': 0.1}\n",
      "Checking for {'alpha': 0.7, 'beta': 0.6, 'gamma': 0.2}\n",
      "Checking for {'alpha': 0.7, 'beta': 0.6, 'gamma': 0.3}\n",
      "Checking for {'alpha': 0.7, 'beta': 0.6, 'gamma': 0.4}\n",
      "Checking for {'alpha': 0.7, 'beta': 0.6, 'gamma': 0.5}\n"
     ]
    },
    {
     "name": "stderr",
     "output_type": "stream",
     "text": [
      "C:\\Users\\ACER\\anaconda3\\lib\\site-packages\\statsmodels\\tsa\\base\\tsa_model.py:159: ValueWarning: No frequency information was provided, so inferred frequency MS will be used.\n",
      "  warnings.warn('No frequency information was'\n",
      "C:\\Users\\ACER\\anaconda3\\lib\\site-packages\\statsmodels\\tsa\\base\\tsa_model.py:159: ValueWarning: No frequency information was provided, so inferred frequency MS will be used.\n",
      "  warnings.warn('No frequency information was'\n",
      "C:\\Users\\ACER\\anaconda3\\lib\\site-packages\\statsmodels\\tsa\\base\\tsa_model.py:159: ValueWarning: No frequency information was provided, so inferred frequency MS will be used.\n",
      "  warnings.warn('No frequency information was'\n",
      "C:\\Users\\ACER\\anaconda3\\lib\\site-packages\\statsmodels\\tsa\\base\\tsa_model.py:159: ValueWarning: No frequency information was provided, so inferred frequency MS will be used.\n",
      "  warnings.warn('No frequency information was'\n",
      "C:\\Users\\ACER\\anaconda3\\lib\\site-packages\\statsmodels\\tsa\\base\\tsa_model.py:159: ValueWarning: No frequency information was provided, so inferred frequency MS will be used.\n",
      "  warnings.warn('No frequency information was'\n",
      "C:\\Users\\ACER\\anaconda3\\lib\\site-packages\\statsmodels\\tsa\\base\\tsa_model.py:159: ValueWarning: No frequency information was provided, so inferred frequency MS will be used.\n",
      "  warnings.warn('No frequency information was'\n",
      "C:\\Users\\ACER\\anaconda3\\lib\\site-packages\\statsmodels\\tsa\\base\\tsa_model.py:159: ValueWarning: No frequency information was provided, so inferred frequency MS will be used.\n",
      "  warnings.warn('No frequency information was'\n",
      "C:\\Users\\ACER\\anaconda3\\lib\\site-packages\\statsmodels\\tsa\\base\\tsa_model.py:159: ValueWarning: No frequency information was provided, so inferred frequency MS will be used.\n",
      "  warnings.warn('No frequency information was'\n",
      "C:\\Users\\ACER\\anaconda3\\lib\\site-packages\\statsmodels\\tsa\\base\\tsa_model.py:159: ValueWarning: No frequency information was provided, so inferred frequency MS will be used.\n",
      "  warnings.warn('No frequency information was'\n"
     ]
    },
    {
     "name": "stdout",
     "output_type": "stream",
     "text": [
      "Checking for {'alpha': 0.7, 'beta': 0.6, 'gamma': 0.6}\n",
      "Checking for {'alpha': 0.8, 'beta': 0.1, 'gamma': 0.1}\n",
      "Checking for {'alpha': 0.8, 'beta': 0.1, 'gamma': 0.2}\n",
      "Checking for {'alpha': 0.8, 'beta': 0.1, 'gamma': 0.3}\n",
      "Checking for {'alpha': 0.8, 'beta': 0.1, 'gamma': 0.4}\n",
      "Checking for {'alpha': 0.8, 'beta': 0.1, 'gamma': 0.5}\n",
      "Checking for {'alpha': 0.8, 'beta': 0.1, 'gamma': 0.6}\n",
      "Checking for {'alpha': 0.8, 'beta': 0.2, 'gamma': 0.1}\n",
      "Checking for {'alpha': 0.8, 'beta': 0.2, 'gamma': 0.2}\n",
      "Checking for {'alpha': 0.8, 'beta': 0.2, 'gamma': 0.3}\n"
     ]
    },
    {
     "name": "stderr",
     "output_type": "stream",
     "text": [
      "C:\\Users\\ACER\\anaconda3\\lib\\site-packages\\statsmodels\\tsa\\base\\tsa_model.py:159: ValueWarning: No frequency information was provided, so inferred frequency MS will be used.\n",
      "  warnings.warn('No frequency information was'\n",
      "C:\\Users\\ACER\\anaconda3\\lib\\site-packages\\statsmodels\\tsa\\base\\tsa_model.py:159: ValueWarning: No frequency information was provided, so inferred frequency MS will be used.\n",
      "  warnings.warn('No frequency information was'\n",
      "C:\\Users\\ACER\\anaconda3\\lib\\site-packages\\statsmodels\\tsa\\base\\tsa_model.py:159: ValueWarning: No frequency information was provided, so inferred frequency MS will be used.\n",
      "  warnings.warn('No frequency information was'\n",
      "C:\\Users\\ACER\\anaconda3\\lib\\site-packages\\statsmodels\\tsa\\base\\tsa_model.py:159: ValueWarning: No frequency information was provided, so inferred frequency MS will be used.\n",
      "  warnings.warn('No frequency information was'\n",
      "C:\\Users\\ACER\\anaconda3\\lib\\site-packages\\statsmodels\\tsa\\base\\tsa_model.py:159: ValueWarning: No frequency information was provided, so inferred frequency MS will be used.\n",
      "  warnings.warn('No frequency information was'\n",
      "C:\\Users\\ACER\\anaconda3\\lib\\site-packages\\statsmodels\\tsa\\base\\tsa_model.py:159: ValueWarning: No frequency information was provided, so inferred frequency MS will be used.\n",
      "  warnings.warn('No frequency information was'\n",
      "C:\\Users\\ACER\\anaconda3\\lib\\site-packages\\statsmodels\\tsa\\base\\tsa_model.py:159: ValueWarning: No frequency information was provided, so inferred frequency MS will be used.\n",
      "  warnings.warn('No frequency information was'\n",
      "C:\\Users\\ACER\\anaconda3\\lib\\site-packages\\statsmodels\\tsa\\base\\tsa_model.py:159: ValueWarning: No frequency information was provided, so inferred frequency MS will be used.\n",
      "  warnings.warn('No frequency information was'\n",
      "C:\\Users\\ACER\\anaconda3\\lib\\site-packages\\statsmodels\\tsa\\base\\tsa_model.py:159: ValueWarning: No frequency information was provided, so inferred frequency MS will be used.\n",
      "  warnings.warn('No frequency information was'\n",
      "C:\\Users\\ACER\\anaconda3\\lib\\site-packages\\statsmodels\\tsa\\base\\tsa_model.py:159: ValueWarning: No frequency information was provided, so inferred frequency MS will be used.\n",
      "  warnings.warn('No frequency information was'\n"
     ]
    },
    {
     "name": "stdout",
     "output_type": "stream",
     "text": [
      "Checking for {'alpha': 0.8, 'beta': 0.2, 'gamma': 0.4}\n",
      "Checking for {'alpha': 0.8, 'beta': 0.2, 'gamma': 0.5}\n",
      "Checking for {'alpha': 0.8, 'beta': 0.2, 'gamma': 0.6}\n",
      "Checking for {'alpha': 0.8, 'beta': 0.3, 'gamma': 0.1}\n",
      "Checking for {'alpha': 0.8, 'beta': 0.3, 'gamma': 0.2}\n",
      "Checking for {'alpha': 0.8, 'beta': 0.3, 'gamma': 0.3}\n",
      "Checking for {'alpha': 0.8, 'beta': 0.3, 'gamma': 0.4}\n",
      "Checking for {'alpha': 0.8, 'beta': 0.3, 'gamma': 0.5}\n",
      "Checking for {'alpha': 0.8, 'beta': 0.3, 'gamma': 0.6}\n",
      "Checking for {'alpha': 0.8, 'beta': 0.4, 'gamma': 0.1}\n",
      "Checking for {'alpha': 0.8, 'beta': 0.4, 'gamma': 0.2}\n",
      "Checking for {'alpha': 0.8, 'beta': 0.4, 'gamma': 0.3}\n",
      "Checking for {'alpha': 0.8, 'beta': 0.4, 'gamma': 0.4}\n"
     ]
    },
    {
     "name": "stderr",
     "output_type": "stream",
     "text": [
      "C:\\Users\\ACER\\anaconda3\\lib\\site-packages\\statsmodels\\tsa\\base\\tsa_model.py:159: ValueWarning: No frequency information was provided, so inferred frequency MS will be used.\n",
      "  warnings.warn('No frequency information was'\n",
      "C:\\Users\\ACER\\anaconda3\\lib\\site-packages\\statsmodels\\tsa\\base\\tsa_model.py:159: ValueWarning: No frequency information was provided, so inferred frequency MS will be used.\n",
      "  warnings.warn('No frequency information was'\n",
      "C:\\Users\\ACER\\anaconda3\\lib\\site-packages\\statsmodels\\tsa\\base\\tsa_model.py:159: ValueWarning: No frequency information was provided, so inferred frequency MS will be used.\n",
      "  warnings.warn('No frequency information was'\n",
      "C:\\Users\\ACER\\anaconda3\\lib\\site-packages\\statsmodels\\tsa\\base\\tsa_model.py:159: ValueWarning: No frequency information was provided, so inferred frequency MS will be used.\n",
      "  warnings.warn('No frequency information was'\n",
      "C:\\Users\\ACER\\anaconda3\\lib\\site-packages\\statsmodels\\tsa\\base\\tsa_model.py:159: ValueWarning: No frequency information was provided, so inferred frequency MS will be used.\n",
      "  warnings.warn('No frequency information was'\n",
      "C:\\Users\\ACER\\anaconda3\\lib\\site-packages\\statsmodels\\tsa\\base\\tsa_model.py:159: ValueWarning: No frequency information was provided, so inferred frequency MS will be used.\n",
      "  warnings.warn('No frequency information was'\n",
      "C:\\Users\\ACER\\anaconda3\\lib\\site-packages\\statsmodels\\tsa\\base\\tsa_model.py:159: ValueWarning: No frequency information was provided, so inferred frequency MS will be used.\n",
      "  warnings.warn('No frequency information was'\n",
      "C:\\Users\\ACER\\anaconda3\\lib\\site-packages\\statsmodels\\tsa\\base\\tsa_model.py:159: ValueWarning: No frequency information was provided, so inferred frequency MS will be used.\n",
      "  warnings.warn('No frequency information was'\n",
      "C:\\Users\\ACER\\anaconda3\\lib\\site-packages\\statsmodels\\tsa\\base\\tsa_model.py:159: ValueWarning: No frequency information was provided, so inferred frequency MS will be used.\n",
      "  warnings.warn('No frequency information was'\n",
      "C:\\Users\\ACER\\anaconda3\\lib\\site-packages\\statsmodels\\tsa\\base\\tsa_model.py:159: ValueWarning: No frequency information was provided, so inferred frequency MS will be used.\n",
      "  warnings.warn('No frequency information was'\n",
      "C:\\Users\\ACER\\anaconda3\\lib\\site-packages\\statsmodels\\tsa\\base\\tsa_model.py:159: ValueWarning: No frequency information was provided, so inferred frequency MS will be used.\n",
      "  warnings.warn('No frequency information was'\n",
      "C:\\Users\\ACER\\anaconda3\\lib\\site-packages\\statsmodels\\tsa\\base\\tsa_model.py:159: ValueWarning: No frequency information was provided, so inferred frequency MS will be used.\n",
      "  warnings.warn('No frequency information was'\n",
      "C:\\Users\\ACER\\anaconda3\\lib\\site-packages\\statsmodels\\tsa\\base\\tsa_model.py:159: ValueWarning: No frequency information was provided, so inferred frequency MS will be used.\n",
      "  warnings.warn('No frequency information was'\n"
     ]
    },
    {
     "name": "stdout",
     "output_type": "stream",
     "text": [
      "Checking for {'alpha': 0.8, 'beta': 0.4, 'gamma': 0.5}\n",
      "Checking for {'alpha': 0.8, 'beta': 0.4, 'gamma': 0.6}\n",
      "Checking for {'alpha': 0.8, 'beta': 0.5, 'gamma': 0.1}\n",
      "Checking for {'alpha': 0.8, 'beta': 0.5, 'gamma': 0.2}\n",
      "Checking for {'alpha': 0.8, 'beta': 0.5, 'gamma': 0.3}\n",
      "Checking for {'alpha': 0.8, 'beta': 0.5, 'gamma': 0.4}\n",
      "Checking for {'alpha': 0.8, 'beta': 0.5, 'gamma': 0.5}\n",
      "Checking for {'alpha': 0.8, 'beta': 0.5, 'gamma': 0.6}\n",
      "Checking for {'alpha': 0.8, 'beta': 0.6, 'gamma': 0.1}\n"
     ]
    },
    {
     "name": "stderr",
     "output_type": "stream",
     "text": [
      "C:\\Users\\ACER\\anaconda3\\lib\\site-packages\\statsmodels\\tsa\\base\\tsa_model.py:159: ValueWarning: No frequency information was provided, so inferred frequency MS will be used.\n",
      "  warnings.warn('No frequency information was'\n",
      "C:\\Users\\ACER\\anaconda3\\lib\\site-packages\\statsmodels\\tsa\\base\\tsa_model.py:159: ValueWarning: No frequency information was provided, so inferred frequency MS will be used.\n",
      "  warnings.warn('No frequency information was'\n",
      "C:\\Users\\ACER\\anaconda3\\lib\\site-packages\\statsmodels\\tsa\\base\\tsa_model.py:159: ValueWarning: No frequency information was provided, so inferred frequency MS will be used.\n",
      "  warnings.warn('No frequency information was'\n",
      "C:\\Users\\ACER\\anaconda3\\lib\\site-packages\\statsmodels\\tsa\\base\\tsa_model.py:159: ValueWarning: No frequency information was provided, so inferred frequency MS will be used.\n",
      "  warnings.warn('No frequency information was'\n",
      "C:\\Users\\ACER\\anaconda3\\lib\\site-packages\\statsmodels\\tsa\\base\\tsa_model.py:159: ValueWarning: No frequency information was provided, so inferred frequency MS will be used.\n",
      "  warnings.warn('No frequency information was'\n",
      "C:\\Users\\ACER\\anaconda3\\lib\\site-packages\\statsmodels\\tsa\\base\\tsa_model.py:159: ValueWarning: No frequency information was provided, so inferred frequency MS will be used.\n",
      "  warnings.warn('No frequency information was'\n",
      "C:\\Users\\ACER\\anaconda3\\lib\\site-packages\\statsmodels\\tsa\\base\\tsa_model.py:159: ValueWarning: No frequency information was provided, so inferred frequency MS will be used.\n",
      "  warnings.warn('No frequency information was'\n",
      "C:\\Users\\ACER\\anaconda3\\lib\\site-packages\\statsmodels\\tsa\\base\\tsa_model.py:159: ValueWarning: No frequency information was provided, so inferred frequency MS will be used.\n",
      "  warnings.warn('No frequency information was'\n",
      "C:\\Users\\ACER\\anaconda3\\lib\\site-packages\\statsmodels\\tsa\\base\\tsa_model.py:159: ValueWarning: No frequency information was provided, so inferred frequency MS will be used.\n",
      "  warnings.warn('No frequency information was'\n"
     ]
    },
    {
     "name": "stdout",
     "output_type": "stream",
     "text": [
      "Checking for {'alpha': 0.8, 'beta': 0.6, 'gamma': 0.2}\n",
      "Checking for {'alpha': 0.8, 'beta': 0.6, 'gamma': 0.3}\n",
      "Checking for {'alpha': 0.8, 'beta': 0.6, 'gamma': 0.4}\n",
      "Checking for {'alpha': 0.8, 'beta': 0.6, 'gamma': 0.5}\n",
      "Checking for {'alpha': 0.8, 'beta': 0.6, 'gamma': 0.6}\n"
     ]
    },
    {
     "name": "stderr",
     "output_type": "stream",
     "text": [
      "C:\\Users\\ACER\\anaconda3\\lib\\site-packages\\statsmodels\\tsa\\base\\tsa_model.py:159: ValueWarning: No frequency information was provided, so inferred frequency MS will be used.\n",
      "  warnings.warn('No frequency information was'\n",
      "C:\\Users\\ACER\\anaconda3\\lib\\site-packages\\statsmodels\\tsa\\base\\tsa_model.py:159: ValueWarning: No frequency information was provided, so inferred frequency MS will be used.\n",
      "  warnings.warn('No frequency information was'\n",
      "C:\\Users\\ACER\\anaconda3\\lib\\site-packages\\statsmodels\\tsa\\base\\tsa_model.py:159: ValueWarning: No frequency information was provided, so inferred frequency MS will be used.\n",
      "  warnings.warn('No frequency information was'\n",
      "C:\\Users\\ACER\\anaconda3\\lib\\site-packages\\statsmodels\\tsa\\base\\tsa_model.py:159: ValueWarning: No frequency information was provided, so inferred frequency MS will be used.\n",
      "  warnings.warn('No frequency information was'\n",
      "C:\\Users\\ACER\\anaconda3\\lib\\site-packages\\statsmodels\\tsa\\base\\tsa_model.py:159: ValueWarning: No frequency information was provided, so inferred frequency MS will be used.\n",
      "  warnings.warn('No frequency information was'\n"
     ]
    },
    {
     "data": {
      "text/plain": [
       "{'alpha': 0.7, 'beta': 0.1, 'gamma': 0.2, 'mae': array(0.01909396)}"
      ]
     },
     "execution_count": 32,
     "metadata": {},
     "output_type": "execute_result"
    }
   ],
   "source": [
    "auto_hwm(ts, val_split_date ='1990-12-01' , alpha=alpha, beta=beta, gamma=gamma, \n",
    "              trend='mul', seasonal='mul', periods=12, verbose=True)"
   ]
  },
  {
   "cell_type": "code",
   "execution_count": 33,
   "id": "6c6757c6",
   "metadata": {},
   "outputs": [
    {
     "name": "stderr",
     "output_type": "stream",
     "text": [
      "C:\\Users\\ACER\\anaconda3\\lib\\site-packages\\statsmodels\\tsa\\base\\tsa_model.py:159: ValueWarning: No frequency information was provided, so inferred frequency MS will be used.\n",
      "  warnings.warn('No frequency information was'\n"
     ]
    }
   ],
   "source": [
    "ets_model = ExponentialSmoothing(ts, trend='mul', seasonal='mul', seasonal_periods=12).fit(smoothing_level=0.7, smoothing_slope=0.1, smoothing_seasonal=0.2)"
   ]
  },
  {
   "cell_type": "code",
   "execution_count": 34,
   "id": "f2de9c9d",
   "metadata": {},
   "outputs": [
    {
     "name": "stdout",
     "output_type": "stream",
     "text": [
      "                       ExponentialSmoothing Model Results                       \n",
      "================================================================================\n",
      "Dep. Variable:                    endog   No. Observations:                  552\n",
      "Model:             ExponentialSmoothing   SSE                           2028.418\n",
      "Optimized:                         True   AIC                            750.408\n",
      "Trend:                   Multiplicative   BIC                            819.425\n",
      "Seasonal:                Multiplicative   AICC                           751.691\n",
      "Seasonal Periods:                    12   Date:                 Thu, 12 May 2022\n",
      "Box-Cox:                          False   Time:                         11:16:40\n",
      "Box-Cox Coeff.:                    None                                         \n",
      "=================================================================================\n",
      "                          coeff                 code              optimized      \n",
      "---------------------------------------------------------------------------------\n",
      "smoothing_level               0.7000000                alpha                False\n",
      "smoothing_slope               0.1000000                 beta                False\n",
      "smoothing_seasonal            0.2000000                gamma                False\n",
      "initial_level                 79.446044                  l.0                 True\n",
      "initial_slope                 1.0101037                  b.0                 True\n",
      "initial_seasons.0             0.4505008                  s.0                 True\n",
      "initial_seasons.1             0.4333866                  s.1                 True\n",
      "initial_seasons.2             0.4049510                  s.2                 True\n",
      "initial_seasons.3             0.3783408                  s.3                 True\n",
      "initial_seasons.4             0.3718236                  s.4                 True\n",
      "initial_seasons.5             0.4034557                  s.5                 True\n",
      "initial_seasons.6             0.4325433                  s.6                 True\n",
      "initial_seasons.7             0.4409418                  s.7                 True\n",
      "initial_seasons.8             0.4189706                  s.8                 True\n",
      "initial_seasons.9             0.3909167                  s.9                 True\n",
      "initial_seasons.10            0.3980046                 s.10                 True\n",
      "initial_seasons.11            0.4257832                 s.11                 True\n",
      "---------------------------------------------------------------------------------\n"
     ]
    }
   ],
   "source": [
    "print(ets_model.summary())"
   ]
  },
  {
   "cell_type": "code",
   "execution_count": 35,
   "id": "3bf46685",
   "metadata": {},
   "outputs": [],
   "source": [
    "ets_forcast = ets_model.forecast(9)"
   ]
  },
  {
   "cell_type": "markdown",
   "id": "b16c15d4",
   "metadata": {},
   "source": [
    "## Validation of ETS Model  : \n",
    "\n",
    "## 1) RMSE : "
   ]
  },
  {
   "cell_type": "code",
   "execution_count": 36,
   "id": "20c933ed",
   "metadata": {},
   "outputs": [],
   "source": [
    "ets_forcast = ets_forcast.reset_index().set_index(\"index\")\n",
    "ets_forcast.rename({0:\"electricty_consumption_in_tw\"},axis=1, inplace=True)"
   ]
  },
  {
   "cell_type": "code",
   "execution_count": 37,
   "id": "db72200e",
   "metadata": {},
   "outputs": [
    {
     "name": "stdout",
     "output_type": "stream",
     "text": [
      "RMSE :  electricty_consumption_in_tw    2.045962\n",
      "dtype: float64\n"
     ]
    }
   ],
   "source": [
    "print('RMSE : ', np.sqrt(np.square(test-ets_forcast).mean()))"
   ]
  },
  {
   "cell_type": "markdown",
   "id": "1aa1f1ed",
   "metadata": {},
   "source": [
    "## 2) RMSPE :  "
   ]
  },
  {
   "cell_type": "code",
   "execution_count": 38,
   "id": "9377f786",
   "metadata": {},
   "outputs": [
    {
     "name": "stdout",
     "output_type": "stream",
     "text": [
      "RMSPE :  electricty_consumption_in_tw    0.019699\n",
      "dtype: float64\n"
     ]
    }
   ],
   "source": [
    "print('RMSPE : ', np.sqrt(np.square((test-ets_forcast)/test).mean()))"
   ]
  },
  {
   "cell_type": "markdown",
   "id": "4d13377a",
   "metadata": {},
   "source": [
    "## 3) MAPE :  "
   ]
  },
  {
   "cell_type": "code",
   "execution_count": 40,
   "id": "32f25ea9",
   "metadata": {},
   "outputs": [
    {
     "name": "stdout",
     "output_type": "stream",
     "text": [
      "MAPE :  electricty_consumption_in_tw   -0.001312\n",
      "dtype: float64\n"
     ]
    }
   ],
   "source": [
    "print('MAPE : ',  ((test-ets_forcast)/test).mean() )"
   ]
  },
  {
   "cell_type": "code",
   "execution_count": 41,
   "id": "354fb82b",
   "metadata": {},
   "outputs": [],
   "source": [
    "## Predection for next 2 years : "
   ]
  },
  {
   "cell_type": "code",
   "execution_count": 42,
   "id": "5bc5cfd1",
   "metadata": {},
   "outputs": [
    {
     "data": {
      "text/plain": [
       "2019-01-01    107.624907\n",
       "2019-02-01    100.176929\n",
       "2019-03-01     96.355825\n",
       "2019-04-01     89.875938\n",
       "2019-05-01     96.220686\n",
       "2019-06-01    111.644296\n",
       "2019-07-01    123.000411\n",
       "2019-08-01    121.267828\n",
       "2019-09-01    108.566524\n",
       "2019-10-01     96.206549\n",
       "2019-11-01     93.911000\n",
       "2019-12-01    104.573345\n",
       "2020-01-01    110.221963\n",
       "2020-02-01    102.594261\n",
       "2020-03-01     98.680951\n",
       "2020-04-01     92.044701\n",
       "2020-05-01     98.542551\n",
       "2020-06-01    114.338343\n",
       "2020-07-01    125.968488\n",
       "2020-08-01    124.194097\n",
       "2020-09-01    111.186302\n",
       "2020-10-01     98.528073\n",
       "2020-11-01     96.177132\n",
       "2020-12-01    107.096766\n",
       "Freq: MS, dtype: float64"
      ]
     },
     "execution_count": 42,
     "metadata": {},
     "output_type": "execute_result"
    }
   ],
   "source": [
    "ets_forcast = ets_model.forecast(24)\n",
    "ets_forcast"
   ]
  },
  {
   "cell_type": "markdown",
   "id": "e59af13e",
   "metadata": {},
   "source": [
    "## Model building by ARIMA/SARIMA  method : "
   ]
  },
  {
   "cell_type": "code",
   "execution_count": 43,
   "id": "db2bcf7a",
   "metadata": {},
   "outputs": [
    {
     "data": {
      "image/png": "[encoded data removed]",
      "text/plain": [
       "<Figure size 1080x720 with 1 Axes>"
      ]
     },
     "execution_count": 43,
     "metadata": {},
     "output_type": "execute_result"
    },
    {
     "data": {
      "image/png": "[encoded data removed]",
      "text/plain": [
       "<Figure size 1080x720 with 1 Axes>"
      ]
     },
     "metadata": {
      "needs_background": "light"
     },
     "output_type": "display_data"
    }
   ],
   "source": [
    "## Do some inisial checks to find which mehtod(ARIMA/SARIMA) is best suited for the data:\n",
    "\n",
    "## (plotting od ACF) : \n",
    "\n",
    "smt.graphics.plot_acf(train.electricty_consumption_in_tw, lags=20)\n",
    "\n",
    "\n",
    "## From this plot we can say that : \n",
    "\n",
    "## 1) There is an seasonality as there is a pattern. \n",
    "## 2) The data is not a staionary series data. (So we need to make it a staionary series data, its Pre-requsite) \n",
    "\n"
   ]
  },
  {
   "cell_type": "code",
   "execution_count": 44,
   "id": "b52eafdb",
   "metadata": {},
   "outputs": [
    {
     "data": {
      "image/png": "[encoded data removed]",
      "text/plain": [
       "<Figure size 1080x720 with 1 Axes>"
      ]
     },
     "execution_count": 44,
     "metadata": {},
     "output_type": "execute_result"
    },
    {
     "data": {
      "image/png": "[encoded data removed]",
      "text/plain": [
       "<Figure size 1080x720 with 1 Axes>"
      ]
     },
     "metadata": {
      "needs_background": "light"
     },
     "output_type": "display_data"
    }
   ],
   "source": [
    "## (plotting od PACF) : \n",
    "\n",
    "smt.graphics.plot_pacf(train.electricty_consumption_in_tw, lags=20)"
   ]
  },
  {
   "cell_type": "markdown",
   "id": "33cf7ecf",
   "metadata": {},
   "source": [
    "## Converting the non-stationary series data into statonary series data by transformation : "
   ]
  },
  {
   "cell_type": "code",
   "execution_count": 45,
   "id": "56f6502e",
   "metadata": {},
   "outputs": [
    {
     "data": {
      "image/png": "[encoded data removed]",
      "text/plain": [
       "<Figure size 1080x720 with 1 Axes>"
      ]
     },
     "metadata": {
      "needs_background": "light"
     },
     "output_type": "display_data"
    }
   ],
   "source": [
    "smt.graphics.plot_acf((np.log(data.electricty_consumption_in_tw).diff().dropna()), lags=20)\n",
    "\n",
    "## Its showing stationary series \n",
    "\n",
    "## new data: \n",
    "\n",
    "new_train = data.electricty_consumption_in_tw.diff()"
   ]
  },
  {
   "cell_type": "code",
   "execution_count": 46,
   "id": "4294ada8",
   "metadata": {},
   "outputs": [
    {
     "data": {
      "image/png": "[encoded data removed]",
      "text/plain": [
       "<Figure size 1080x720 with 1 Axes>"
      ]
     },
     "execution_count": 46,
     "metadata": {},
     "output_type": "execute_result"
    },
    {
     "data": {
      "image/png": "[encoded data removed]",
      "text/plain": [
       "<Figure size 1080x720 with 1 Axes>"
      ]
     },
     "metadata": {
      "needs_background": "light"
     },
     "output_type": "display_data"
    }
   ],
   "source": [
    "smt.graphics.plot_pacf((np.log(data.electricty_consumption_in_tw).diff().dropna()), lags=20)"
   ]
  },
  {
   "cell_type": "markdown",
   "id": "f8901c6a",
   "metadata": {},
   "source": [
    "## As we can see that from ACF plot the data have seasonality, so we are going to use SARIMA model : unknows are (p,d,q)(P,D,Q,T)"
   ]
  },
  {
   "cell_type": "code",
   "execution_count": 47,
   "id": "4ff1e7d5",
   "metadata": {},
   "outputs": [],
   "source": [
    "## calculating the unknows : \n",
    "\n",
    "p = 1\n",
    "q = 1\n",
    "d = 1   ## diff transformations \n",
    "\n",
    "P = 1 \n",
    "Q = 1 \n",
    "D = 0 \n",
    "T = 12 "
   ]
  },
  {
   "cell_type": "code",
   "execution_count": null,
   "id": "1aa3c839",
   "metadata": {},
   "outputs": [],
   "source": [
    "import sys\n",
    "import itertools\n",
    "import warnings\n",
    "\n",
    "def auto_arima(timeseries, regressors=None, p=range(0, 3), d=range(0, 2), q=range(0, 3),\n",
    "              P=range(0, 3), D=range(0, 1), Q=range(0, 3)):\n",
    "\n",
    "    # Generate all different combinations of p, d and q triplets\n",
    "    pdq = list(itertools.product(p, d, q))\n",
    "\n",
    "    # Generate all different combinations of seasonal p, q and q triplets\n",
    "    seasonal_pdq = [(x[0], x[1], x[2], 12) for x in list(itertools.product(P, D, Q))]\n",
    "    \n",
    "    warnings.filterwarnings(\"ignore\") # specify to ignore warning messages\n",
    "\n",
    "    best_aic = np.inf\n",
    "    best_pdq = None\n",
    "    best_seasonal_pdq = None\n",
    "    best_results = None\n",
    "    \n",
    "    for param in pdq:\n",
    "        for param_seasonal in seasonal_pdq:\n",
    "\n",
    "            try:\n",
    "                temp_model = sm.tsa.statespace.SARIMAX(endog=timeseries,\n",
    "                                                 exog=regressors,\n",
    "                                                 order = param,\n",
    "                                                 seasonal_order = param_seasonal,\n",
    "                                                 enforce_stationarity=False,\n",
    "                                                 enforce_invertibility=False)\n",
    "                temp_results = temp_model.fit()\n",
    "\n",
    "                print(\"SARIMAX{}x{}12 - AIC:{}\".format(param, param_seasonal, temp_results.aic))\n",
    "                \n",
    "                if temp_results.aic < best_aic:\n",
    "                    best_aic = temp_results.aic\n",
    "                    best_pdq = param\n",
    "                    best_seasonal_pdq = param_seasonal\n",
    "                    best_results = temp_results\n",
    "                \n",
    "            except:\n",
    "                #print(\"Unexpected error:\", sys.exc_info()[0])\n",
    "                continue\n",
    "    print(\"Best SARIMAX{}x{}12 model - AIC:{}\".format(best_pdq, best_seasonal_pdq, best_aic))\n",
    "    print(best_results.summary().tables[0])\n",
    "    print(best_results.summary().tables[1])\n",
    "    #return best_results\n",
    "\n",
    "\n",
    "\n",
    "best_results = auto_arima(new_train,  p=range(0, 3), d=range(0, 2), q=range(0, 3),\n",
    "                         P=range(0, 3), D=range(0, 1), Q=range(0, 3))    \n"
   ]
  },
  {
   "cell_type": "code",
   "execution_count": 48,
   "id": "1482c7ca",
   "metadata": {},
   "outputs": [],
   "source": [
    "new_train = np.logtrain)\n",
    "\n",
    "new_test = np.log(test)"
   ]
  },
  {
   "cell_type": "code",
   "execution_count": 70,
   "id": "7e76f799",
   "metadata": {},
   "outputs": [],
   "source": [
    "sarima_model = sm.tsa.statespace.SARIMAX(new_train, order=(2,1,1), seasonal_order=(1,0,1,12)).fit()"
   ]
  },
  {
   "cell_type": "code",
   "execution_count": 64,
   "id": "c1666bd2",
   "metadata": {},
   "outputs": [],
   "source": [
    "sarima_forcast = np.exp(sarima_model.forecast(9))"
   ]
  },
  {
   "cell_type": "code",
   "execution_count": 65,
   "id": "745be911",
   "metadata": {},
   "outputs": [
    {
     "name": "stdout",
     "output_type": "stream",
     "text": [
      "RMSE :  electricty_consumption_in_tw    3.505973\n",
      "dtype: float64\n"
     ]
    }
   ],
   "source": [
    "## Validation of SARIMA Model  : \n",
    "\n",
    "## 1) RMSE : \n",
    "\n",
    "sarima_forcast = sarima_forcast.reset_index().set_index(\"index\")\n",
    "sarima_forcast.rename({0:\"electricty_consumption_in_tw\"},axis=1, inplace=True)\n",
    "\n",
    "print('RMSE : ', np.sqrt(np.square(test-sarima_forcast).mean()))\n",
    "\n"
   ]
  },
  {
   "cell_type": "code",
   "execution_count": 66,
   "id": "1f6ce73d",
   "metadata": {},
   "outputs": [
    {
     "name": "stdout",
     "output_type": "stream",
     "text": [
      "RMSPE :  electricty_consumption_in_tw    0.03155\n",
      "dtype: float64\n"
     ]
    }
   ],
   "source": [
    "## 2) RMSPE :\n",
    "print('RMSPE : ', np.sqrt(np.square((test-sarima_forcast)/test).mean()))"
   ]
  },
  {
   "cell_type": "code",
   "execution_count": 67,
   "id": "90b85612",
   "metadata": {},
   "outputs": [
    {
     "name": "stdout",
     "output_type": "stream",
     "text": [
      "MAPE :  electricty_consumption_in_tw    0.023774\n",
      "dtype: float64\n"
     ]
    }
   ],
   "source": [
    "## 3) MAPE :  \n",
    "print('MAPE : ',  ((test-sarima_forcast)/test).mean() )"
   ]
  },
  {
   "cell_type": "code",
   "execution_count": 68,
   "id": "bc51f80b",
   "metadata": {},
   "outputs": [
    {
     "data": {
      "text/plain": [
       "2019-01-01    106.504242\n",
       "2019-02-01     98.731407\n",
       "2019-03-01     94.380179\n",
       "2019-04-01     88.318716\n",
       "2019-05-01     93.704283\n",
       "2019-06-01    107.609441\n",
       "2019-07-01    118.319597\n",
       "2019-08-01    117.317474\n",
       "2019-09-01    105.337009\n",
       "2019-10-01     93.783121\n",
       "2019-11-01     91.657955\n",
       "2019-12-01    101.189747\n",
       "2020-01-01    106.072864\n",
       "2020-02-01     98.693518\n",
       "2020-03-01     94.510640\n",
       "2020-04-01     88.507309\n",
       "2020-05-01     93.890489\n",
       "2020-06-01    107.763943\n",
       "2020-07-01    118.443447\n",
       "2020-08-01    117.442004\n",
       "2020-09-01    105.490667\n",
       "2020-10-01     93.960607\n",
       "2020-11-01     91.839308\n",
       "2020-12-01    101.352522\n",
       "Freq: MS, dtype: float64"
      ]
     },
     "execution_count": 68,
     "metadata": {},
     "output_type": "execute_result"
    }
   ],
   "source": [
    "## Predection for next 2 years : \n",
    "\n",
    "np.exp(sarima_model.forecast(24))"
   ]
  },
  {
   "cell_type": "code",
   "execution_count": 69,
   "id": "e6809f10",
   "metadata": {},
   "outputs": [
    {
     "data": {
      "image/png": "[encoded data removed]",
      "text/plain": [
       "<Figure size 1152x864 with 4 Axes>"
      ]
     },
     "execution_count": 69,
     "metadata": {},
     "output_type": "execute_result"
    },
    {
     "data": {
      "image/png": "[encoded data removed]",
      "text/plain": [
       "<Figure size 1152x864 with 4 Axes>"
      ]
     },
     "metadata": {
      "needs_background": "light"
     },
     "output_type": "display_data"
    }
   ],
   "source": [
    "## Model Diagonstic : \n",
    "\n",
    "sarima_model.plot_diagnostics(lags=24,figsize=[16,12])"
   ]
  },
  {
   "cell_type": "markdown",
   "id": "dae0f538",
   "metadata": {},
   "source": [
    "## AS we can see in correlogram plot there are some points beyond confidence index. "
   ]
  },
  {
   "cell_type": "code",
   "execution_count": null,
   "id": "7d5c13d2",
   "metadata": {},
   "outputs": [],
   "source": [
    "## I personally choose ETS model aS we can see in accuracy metric they as predicting  less error compare to SARIMA model and \n",
    "## also SARIMA model have some ACF values beyond confidence index."
   ]
  }
 ],
 "metadata": {
  "kernelspec": {
   "display_name": "Python 3",
   "language": "python",
   "name": "python3"
  },
  "language_info": {
   "codemirror_mode": {
    "name": "ipython",
    "version": 3
   },
   "file_extension": ".py",
   "mimetype": "text/x-python",
   "name": "python",
   "nbconvert_exporter": "python",
   "pygments_lexer": "ipython3",
   "version": "3.8.8"
  }
 },
 "nbformat": 4,
 "nbformat_minor": 5
}
